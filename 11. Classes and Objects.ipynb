{
 "cells": [
  {
   "cell_type": "markdown",
   "metadata": {},
   "source": [
    "![ContributION - An introduction to Python and Data Science](contribution.png)"
   ]
  },
  {
   "cell_type": "markdown",
   "metadata": {},
   "source": [
    "# Classes and Objects\n",
    "It is sometimes useful to create your own thing, **your own data type**, like a list, dictionary, or string, where you can have your own *attributes* to be long to the thing you're trying to describe, and *methods* (or functions) that manipulate the thing.\n",
    "\n",
    "### Dictionaries (like many other types) are actually Classes\n",
    "If we compare this to a dictionary, a dictionary has something like a list where you can keep the key/value pairs (similar to attributes) and has methods such as *keys()* or *values()* to get back the keys that keep the values.\n",
    "\n",
    "The way that we describe how such a think is put together is called a **class**.  The **class** is basically the definition of the thing.\n",
    "\n",
    "We could have two dictionaries where we keep track of the attributes of two different planets.  When we call **values()** on one of these dictionaries, it comes back with the details of one planet.  When we call **values()** on the other dictionary, it comes back with the other planet's attributes.  The **values()** method (or rather function) is the same function, but it acts on two different dictionaries.\n",
    "\n",
    "A concrete example would be:"
   ]
  },
  {
   "cell_type": "code",
   "execution_count": null,
   "metadata": {
    "collapsed": false
   },
   "outputs": [],
   "source": [
    "mars = {'name':'Mars', 'moons':2, 'rings':False}\n",
    "earth = {'name':'Earth', 'moons':1, 'rings':False}\n",
    "print(\"mars values:\", mars.values())\n",
    "print(\"earth values:\", earth.values())"
   ]
  },
  {
   "cell_type": "markdown",
   "metadata": {},
   "source": [
    "A *class* is just the definition of a thing, but the thing itself is actually called an **object**.  We also refer to this as an *instance* of the class.  You can have multiple **objects** of the same class, but each one would have its own attributes (like a name or number of rings).\n",
    "\n",
    "The methods that you define on the *class* interacts with the **object** itself (similarly to how *values()* did).  \n",
    "\n",
    "By using **classes** and **objects** you can structure your code very clearly and in many cases make it easier to understand.  Because you can have multiple attributes (of what ever types) and you can have methods that manipulte the class in numerous ways, you can model very complex things follow such an approach.\n",
    "\n",
    "There is a lot more behind classes that we won't cover in this course."
   ]
  },
  {
   "cell_type": "markdown",
   "metadata": {},
   "source": [
    "### So, how do you make your own class\n",
    "Let's create a **class** that represents a planet (and then explain the various parts afterwards).  We'll include various methods (using **def**) along with their own *doc string*."
   ]
  },
  {
   "cell_type": "code",
   "execution_count": null,
   "metadata": {
    "collapsed": false
   },
   "outputs": [],
   "source": [
    "class Planet:\n",
    "    def __init__(self, name, position, moons=0, rings=False):\n",
    "        \"\"\" Creates a new object and ensure the attributes of the planet are set on the object. \"\"\"\n",
    "        self.name = name\n",
    "        self.position = position\n",
    "        self.moons = moons\n",
    "        self.rings = rings\n",
    "        self._avg_surface_temperature = -273.15\n",
    "        self._is_breathable = False\n",
    "    \n",
    "    def how_many_moons(self):\n",
    "        \"\"\" Find out how many moons the planet has. Returns the number of moons the planet has (as an int), possibly 0. \"\"\"\n",
    "        return self.moons\n",
    "    \n",
    "    def has_rings(self):\n",
    "        \"\"\" Find out if the planet has rings.  Returns True or False depending on if the planet has rings. \"\"\"\n",
    "        return self.rings\n",
    "    \n",
    "    def set_average_surface_temperature(self, temp):\n",
    "        \"\"\" Sets the average surface temperature of the planet.\n",
    "        \n",
    "            Keyword arguments:\n",
    "            temp -- The average surface temperature of the planet as a float.\n",
    "        \"\"\"\n",
    "        self._avg_surface_temperature = temp\n",
    "        \n",
    "    def set_is_breathable(self, is_breathable):\n",
    "        \"\"\" Sets if the atmosphere is breatable. \n",
    "        \n",
    "            Keyword arguments:\n",
    "            is_breathable -- A boolean indicating if the atmosphere is breatable or not.\n",
    "        \"\"\"\n",
    "        self._is_breathable = is_breathable\n",
    "        \n",
    "    def is_livable(self):\n",
    "        \"\"\" Returns if the planet can be lived on or not. \"\"\"\n",
    "        return self._avg_surface_temperature >= -50 and self._avg_surface_temperature <= 50 and self._is_breathable "
   ]
  },
  {
   "cell_type": "markdown",
   "metadata": {},
   "source": [
    "The **class** keyword indicates that we're creating a class.  The (indented) block is where the class is defined.\n",
    "\n",
    "In the class we define 6 methods/functions: \\_\\_init\\_\\_, how_many_moons, has_rings, set_average_surface_temperature, set_is_breathable and is_livable.\n",
    "\n",
    "These methods take a parameter called *self*.  This is so that we can know which **object** we're talking about.  *self* is basically just a variable representing the **object**.  Python takes care of this for us (you'll see later).\n",
    "\n",
    "Most are pretty easy to understand and simply return the relevant attribute of the **object** (also called a **instance variable** or **member variables**) or sets a **instance variable** on the **object**.  \n",
    "\n",
    "The \\_\\_init\\_\\_ method is automatically called whenever you create a new planet **object**, using **Planet(....)**.  The *self* parameter is again used by python to know which of the planets we're talking about.  The name and position attributes are mandatory (no default value).  The moons and rings attributes are optional.  When an **object** of **class** Planet is created (or rather instanciated), this method is called, the parameters are obtained and the attributes on the object (*self*) are set accordingly.  The attributes are created in the \\_\\_init\\_\\_ method by refering to them in the form self.*xxx*.  *xxx* can be whatever (member) variable name you want to give it.\n",
    "\n",
    "Next, let's create a few planets:"
   ]
  },
  {
   "cell_type": "code",
   "execution_count": null,
   "metadata": {
    "collapsed": true
   },
   "outputs": [],
   "source": [
    "earth_object = Planet('Earth', 3, 1, False)\n",
    "mars_object = Planet('Mars', 4, rings=False, moons=2)"
   ]
  },
  {
   "cell_type": "markdown",
   "metadata": {},
   "source": [
    "We now have two **objects** that we can do stuff with.  Let's start by finding out more about one of these **objects**."
   ]
  },
  {
   "cell_type": "code",
   "execution_count": null,
   "metadata": {
    "collapsed": false
   },
   "outputs": [],
   "source": [
    "help(earth_object)"
   ]
  },
  {
   "cell_type": "markdown",
   "metadata": {},
   "source": [
    "Here you can see that our *doc strings* are included in the help.  We can also see our 3 methods.  We can't see our attributes directly, but they are there (in the object's *\\_\\_dict\\_\\_* variable).\n",
    "\n",
    "Just like we could call the methods on a dictionary, we can also call the methods on our object."
   ]
  },
  {
   "cell_type": "code",
   "execution_count": null,
   "metadata": {
    "collapsed": false
   },
   "outputs": [],
   "source": [
    "earth_object.how_many_moons()"
   ]
  },
  {
   "cell_type": "markdown",
   "metadata": {},
   "source": [
    "We can also refer to the attributes directly."
   ]
  },
  {
   "cell_type": "code",
   "execution_count": null,
   "metadata": {
    "collapsed": false
   },
   "outputs": [],
   "source": [
    "mars_object.name"
   ]
  },
  {
   "cell_type": "markdown",
   "metadata": {},
   "source": [
    "**Refering to a member variable directly might seem like a good thing, but it can also be a bad thing.**  If you have a complex object, you might not want someone to access these attributes, but rather use a method to get the data that you think should be exposed to them.  This is effectively a way of protecting your users (and yourself).  If someone has access to the member variable, they might just change it.\n",
    "\n",
    "There is a better way of protecting about it...  An example would be the **set_average_surface_temperature** method on our class which sets the **\\_avg_surface_temperature** *instance variable*.  The leading underscore is a convention to indicate it is **private** (see https://www.python.org/dev/peps/pep-0008/#method-names-and-instance-variables).  The method also gives some documentation about the parameters to pass in (see https://www.python.org/dev/peps/pep-0257/).  Here the expectation is to use the **set_average_surface_temperature** method instead of setting the **\\_avg_surface_temperature** *instance variable* directly.\n",
    "\n",
    "### Let's change our objects a bit.\n",
    "First, let's ensure we can live on Earth by making it breatable and setting it to a more humane temperature."
   ]
  },
  {
   "cell_type": "code",
   "execution_count": null,
   "metadata": {
    "collapsed": false
   },
   "outputs": [],
   "source": [
    "earth_object.set_average_surface_temperature(16)\n",
    "earth_object.set_is_breathable(True)\n",
    "if earth_object.is_livable():\n",
    "    print(\"Hooray!  We can live on {}\".format(earth_object.name))\n",
    "else:\n",
    "    print(\"Oh dear, we can't live on {}\".format(earth_object.name))"
   ]
  },
  {
   "cell_type": "code",
   "execution_count": null,
   "metadata": {
    "collapsed": false
   },
   "outputs": [],
   "source": [
    "earth_object._avg_surface_temperature"
   ]
  },
  {
   "cell_type": "markdown",
   "metadata": {},
   "source": [
    "Next, set adjust Mars so that it is closer to reality."
   ]
  },
  {
   "cell_type": "code",
   "execution_count": null,
   "metadata": {
    "collapsed": true
   },
   "outputs": [],
   "source": [
    "mars_object.set_average_surface_temperature(10)\n",
    "mars_object.set_is_breathable(False)"
   ]
  },
  {
   "cell_type": "code",
   "execution_count": null,
   "metadata": {
    "collapsed": false
   },
   "outputs": [],
   "source": [
    "planet_object = mars_object\n",
    "if planet_object.is_livable():\n",
    "    print(\"Hooray!  We can live on {}\".format(planet_object.name))\n",
    "else:\n",
    "    print(\"Oh dear, we can't live on {}\".format(planet_object.name))"
   ]
  },
  {
   "cell_type": "markdown",
   "metadata": {},
   "source": [
    "#### Let's create a list of planets, and then print list of planets we can live on.\n",
    "We'll start by creating a list and adding Earth and Mars."
   ]
  },
  {
   "cell_type": "code",
   "execution_count": null,
   "metadata": {
    "collapsed": false
   },
   "outputs": [],
   "source": [
    "lst = [earth_object, mars_object]"
   ]
  },
  {
   "cell_type": "markdown",
   "metadata": {},
   "source": [
    "Next let's start terraforming (making it livable for humans).  We can probably terraform Mars without too much effort ;-)\n",
    "\n",
    "#### Modify your class and add a new method called *terraform*.\n",
    "The method should ensure it is not too hot and not too cold, and that it has breathable air.\n",
    "*You'll have to ensure you re-create the class.  The easiest is to re-run your Jupyter script from top to bottom.*"
   ]
  },
  {
   "cell_type": "code",
   "execution_count": null,
   "metadata": {
    "collapsed": false
   },
   "outputs": [],
   "source": []
  },
  {
   "cell_type": "markdown",
   "metadata": {},
   "source": [
    "Next, you need to terraform Mars.  A list is mutable and an object is mutable, so changing it here also changes it in the list."
   ]
  },
  {
   "cell_type": "code",
   "execution_count": null,
   "metadata": {
    "collapsed": false
   },
   "outputs": [],
   "source": [
    "mars_object.terraform()"
   ]
  },
  {
   "cell_type": "markdown",
   "metadata": {},
   "source": [
    "Let's also add Venus to our list of planets, but it's really hot."
   ]
  },
  {
   "cell_type": "code",
   "execution_count": null,
   "metadata": {
    "collapsed": false
   },
   "outputs": [],
   "source": [
    "venus_object = Planet(name='Venus', position=2, rings=False, moons=0)\n",
    "venus_object.set_average_surface_temperature(300)\n",
    "venus_object.set_is_breathable(False)\n",
    "lst += [venus_object]"
   ]
  },
  {
   "cell_type": "markdown",
   "metadata": {},
   "source": [
    "And Jupiter, which is really cold."
   ]
  },
  {
   "cell_type": "code",
   "execution_count": null,
   "metadata": {
    "collapsed": true
   },
   "outputs": [],
   "source": [
    "jupiter_object = Planet(name='Jupiter', position=5, rings=True, moons=67)\n",
    "jupiter_object.set_average_surface_temperature(-100)\n",
    "jupiter_object.set_is_breathable(False)\n",
    "lst += [jupiter_object]"
   ]
  },
  {
   "cell_type": "markdown",
   "metadata": {},
   "source": [
    "Let's see which planets we can live one..."
   ]
  },
  {
   "cell_type": "code",
   "execution_count": null,
   "metadata": {
    "collapsed": false
   },
   "outputs": [],
   "source": [
    "print(\"Hooray, we can live on:\" + \", \".join([planet_object.name for planet_object in lst if planet_object.is_livable() == True]))"
   ]
  },
  {
   "cell_type": "markdown",
   "metadata": {
    "collapsed": true
   },
   "source": [
    "## Inheritance\n",
    "A class can *inherit* from another (or parent) class.  This means it is basically the same as the parent class, but you can change it in some way.\n",
    "\n",
    "Let's create a new class for *livable planets* that are just like planets, but they have a humane temperature and the air is breathable.  We could make it so that each time we create a **Planet** we also call object.**terraform()** on it, but this is two lines of code.  You should always try to write as little code as possible (in the long term).  There is a better way of doing it.\n",
    "\n",
    "We can create a new class called **LivablePlanet** that *inherits* from **Planet**, which does exactly the same thing, except that when it is instanciated, it is also automatically terraformed.  It could look something like this:"
   ]
  },
  {
   "cell_type": "code",
   "execution_count": null,
   "metadata": {
    "collapsed": true
   },
   "outputs": [],
   "source": [
    "class LivablePlanet(Planet):\n",
    "    def __init__(self, name, position, moons=0, rings=False):\n",
    "        \"\"\" Instanciates a new livable planet, which is a terraformed planet. \"\"\"\n",
    "        super(LivablePlanet, self).__init__(name, position, moons, rings)\n",
    "        self.terraform()\n",
    "    \n",
    "    def terraform(self):\n",
    "        \"\"\" Terraform a planet by setting a better surface temperature and making the air breathable. \"\"\"\n",
    "        self.set_average_surface_temperature(25)\n",
    "        self.set_is_breathable(True)       "
   ]
  },
  {
   "cell_type": "markdown",
   "metadata": {},
   "source": [
    "We again use the **class** keyword to indicate we are defining a class.  We give it the name **LivablePlanet**.  In brackets after the name, we give the name of the parent class, **Planet**.\n",
    "\n",
    "The **super** method is a special method to tell Python to call the parent class's \\_\\_init\\_\\_ method, passing in certain parameters (which it simply reuses based on what was passed it).  Once we have a new object instanciated (with whatever Planet.\\_\\_init\\_\\_ does), we call **terraform** on the newly instanciated object, a.k.a. **self**.  And we're done.\n",
    "\n",
    "Note that when we defined **Planet**, we didn't specity what it inherited from, but it implicitly inherited from an class called *object*.  Don't confuse this with an actual **object**.  *object* is a data type in Python that you can call help on and find out more about.\n",
    "\n",
    "Let's make Pluto a planet and terraform it ;-)"
   ]
  },
  {
   "cell_type": "code",
   "execution_count": null,
   "metadata": {
    "collapsed": false
   },
   "outputs": [],
   "source": [
    "lst += [LivablePlanet('Pluto', 9, 0, False)]"
   ]
  },
  {
   "cell_type": "markdown",
   "metadata": {},
   "source": [
    "Now where can we live?"
   ]
  },
  {
   "cell_type": "code",
   "execution_count": null,
   "metadata": {
    "collapsed": false
   },
   "outputs": [],
   "source": [
    "print(\"Hooray, we can live on:\" + \", \".join([planet_object.name for planet_object in lst if planet_object.is_livable() == True]))"
   ]
  },
  {
   "cell_type": "code",
   "execution_count": null,
   "metadata": {
    "collapsed": true
   },
   "outputs": [],
   "source": []
  }
 ],
 "metadata": {
  "kernelspec": {
   "display_name": "Python 3",
   "language": "python",
   "name": "python3"
  },
  "language_info": {
   "codemirror_mode": {
    "name": "ipython",
    "version": 3
   },
   "file_extension": ".py",
   "mimetype": "text/x-python",
   "name": "python",
   "nbconvert_exporter": "python",
   "pygments_lexer": "ipython3",
   "version": "3.6.0"
  }
 },
 "nbformat": 4,
 "nbformat_minor": 2
}
