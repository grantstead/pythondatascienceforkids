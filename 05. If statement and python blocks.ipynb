{
 "cells": [
  {
   "cell_type": "markdown",
   "metadata": {},
   "source": [
    "![ContributION - An introduction to Python and Data Science](contribution.png)"
   ]
  },
  {
   "cell_type": "markdown",
   "metadata": {},
   "source": [
    "# If statement and Python blocks"
   ]
  },
  {
   "cell_type": "markdown",
   "metadata": {},
   "source": [
    "In Python, an **if** statement is used to check if a condition (an expression) is true or false, and then execute only certain code statements based on the outcome of the check.  You will typically use the comparison operators (<, > <=, >=, ==, !=, ...) and boolean operators (and, or, not) as part of the condition to check. \n",
    "\n",
    "E.g. If we ask, do you want some coffee with your sandwich, then if the answer is yes, we make coffee and a sandwich.  If the answer is no, then we don't make the coffee, we only make the sandwich.\n",
    "\n",
    "Consider this example:"
   ]
  },
  {
   "cell_type": "code",
   "execution_count": null,
   "metadata": {
    "collapsed": false
   },
   "outputs": [],
   "source": [
    "want_coffee = \"Maybe\"\n",
    "if want_coffee == \"Yes\":\n",
    "    print(\"Ok, I'll bring some coffee with the sandwich.\")\n",
    "    print(\"hello world\")\n",
    "else:\n",
    "    print(\"Ok, just the sandwich then.\")\n",
    "   "
   ]
  },
  {
   "cell_type": "code",
   "execution_count": null,
   "metadata": {
    "collapsed": false
   },
   "outputs": [],
   "source": [
    "want_coffee = \"Maybe\"\n",
    "if want_coffee == \"No\":\n",
    "    print(\"Ok, just the sandwich then.\")\n",
    "else:\n",
    "    print(\"Ok, I'll bring some coffee with the sandwich.\")"
   ]
  },
  {
   "cell_type": "markdown",
   "metadata": {},
   "source": [
    "#### What happens to both examples above when you change the first line to: *want_coffee = \"No\"*?"
   ]
  },
  {
   "cell_type": "code",
   "execution_count": null,
   "metadata": {
    "collapsed": true
   },
   "outputs": [],
   "source": []
  },
  {
   "cell_type": "markdown",
   "metadata": {},
   "source": [
    "## Python blocks\n",
    "\n",
    "You might have noticed that the *print* statements are *indented*.  This is python's way of indicating a specific *block* of code (set of statements) that belong together.  Everything that is indented to the same level is considered the same block.  Python executes statement after statement within the current block of code.\n",
    "\n",
    "Only certain statements cause a new block, so you can't just indent wherever you want. \n",
    "\n",
    "Consider this example with multiple statements in the same block.\n",
    "\n",
    "Note that:\n",
    " - The hash sign (**#**) means the rest of the line is a comment and python will ignore it.\n",
    " - The input function asks the user a question and waits for an answer before continuing."
   ]
  },
  {
   "cell_type": "code",
   "execution_count": null,
   "metadata": {
    "collapsed": false
   },
   "outputs": [],
   "source": [
    "polly_put_the_kettle_on = False\n",
    "\n",
    "# Ask a question.  Type an answer and press enter.\n",
    "want_coffee = input(\"Do you want some coffee? (type Yes or No) \") \n",
    "\n",
    "# Here want_coffee == \"Yes\" is a boolean expression that evaluates to True or False depending on what was typed.\n",
    "if want_coffee == \"Yes\": \n",
    "    # This block happens if the previous expression is True, and is 3 lines long.\n",
    "    print(\"Ok, I'll go make a coffee as well.\") \n",
    "    polly_put_the_kettle_on = True\n",
    "else:\n",
    "    # This block only happens if the previous block didn't.  It has a single line.\n",
    "    print(\"Ok, no coffee then.\") \n",
    "\n",
    "# Here polly_put_the_kettle_on is also a boolean expression.\n",
    "if polly_put_the_kettle_on: \n",
    "    print(\"Polly, can you please put the kettle on.\") # This block has a single line"
   ]
  },
  {
   "cell_type": "markdown",
   "metadata": {},
   "source": [
    "Its important that the indentation stays the same for the block.\n",
    "\n",
    "#### What happens if you indent the middle line of the top block by an extra space?"
   ]
  },
  {
   "cell_type": "code",
   "execution_count": null,
   "metadata": {
    "collapsed": true
   },
   "outputs": [],
   "source": []
  },
  {
   "cell_type": "markdown",
   "metadata": {},
   "source": [
    "#### What happens if you indent the 7th line (1st *if* statement by a space or two?  (Which block is it part of?)"
   ]
  },
  {
   "cell_type": "code",
   "execution_count": null,
   "metadata": {
    "collapsed": true
   },
   "outputs": [],
   "source": []
  },
  {
   "cell_type": "markdown",
   "metadata": {},
   "source": [
    "#### What happens if you indent the last line by a few extra spaces?  Does it still work?"
   ]
  },
  {
   "cell_type": "code",
   "execution_count": null,
   "metadata": {
    "collapsed": true
   },
   "outputs": [],
   "source": []
  },
  {
   "cell_type": "markdown",
   "metadata": {},
   "source": [
    "## More complex if statements"
   ]
  },
  {
   "cell_type": "markdown",
   "metadata": {},
   "source": [
    "#### Change the example below to also ask if the person wants a sandwich.  If yes, ask Polly to cut 2 slices of bread."
   ]
  },
  {
   "cell_type": "code",
   "execution_count": null,
   "metadata": {
    "collapsed": false
   },
   "outputs": [],
   "source": [
    "polly_put_the_kettle_on = False\n",
    "\n",
    "want_coffee = (input(\"Do you want some coffee? (type Yes or No) \") == \"Yes\")\n",
    "\n",
    "if want_coffee:\n",
    "   print(\"Ok, I'll go make a coffee as well.\")\n",
    "   polly_put_the_kettle_on = True\n",
    "else:\n",
    "   print(\"Ok, no coffee then.\")\n",
    "\n",
    "if want_coffee:\n",
    "   print(\"Polly, can you please put the kettle on.\")"
   ]
  },
  {
   "cell_type": "markdown",
   "metadata": {},
   "source": [
    "#### Now change it to tell Polly what to do in a single print statement.\n",
    "(In the following exercises, copy your previous answer and then build on it)"
   ]
  },
  {
   "cell_type": "code",
   "execution_count": null,
   "metadata": {
    "collapsed": true
   },
   "outputs": [],
   "source": []
  },
  {
   "cell_type": "markdown",
   "metadata": {},
   "source": [
    "#### Now change it even further asking two people instead of just one person.  Be sure to tell Polly how many slices of bread to cut."
   ]
  },
  {
   "cell_type": "code",
   "execution_count": null,
   "metadata": {
    "collapsed": true
   },
   "outputs": [],
   "source": []
  },
  {
   "cell_type": "markdown",
   "metadata": {},
   "source": [
    "#### Now change it to ask how many teaspoons of sugar they want in their coffee? "
   ]
  },
  {
   "cell_type": "code",
   "execution_count": null,
   "metadata": {
    "collapsed": true
   },
   "outputs": [],
   "source": []
  },
  {
   "cell_type": "markdown",
   "metadata": {},
   "source": [
    "## Some special cases"
   ]
  },
  {
   "cell_type": "markdown",
   "metadata": {},
   "source": [
    "There is a special case where you can use an if as the else block.  Let's say you want to make a remark about the number of teaspoons of sugar..."
   ]
  },
  {
   "cell_type": "code",
   "execution_count": null,
   "metadata": {
    "collapsed": false
   },
   "outputs": [],
   "source": [
    "sugars = int(input(\"How many teaspoons of sugar do you want?\"))\n",
    "if sugars == 0:\n",
    "    print(\"Ok, no sugar then.\")\n",
    "else:\n",
    "    if sugars == 1:\n",
    "        print(\"Ok, I'll add a teaspoon of sugar.\")\n",
    "    else:\n",
    "        if sugars >= 2 and sugars < 4:\n",
    "            print(\"Ok, I'll add\", sugars, \"teaspoons of sugar.\")\n",
    "        else:\n",
    "            print(\"Wow! That's a lot of sugar.\")"
   ]
  },
  {
   "cell_type": "markdown",
   "metadata": {},
   "source": [
    "If you keep going, you're going to have to indent quite a lot.  Typically when you check the same variable for various conditions, you can get away with the **elif** statement.  The example below is the same as the one above, except it is more readable.  If a condition is true, the rest of the statements aren't even checked, because they are in if statement's **else** block, which won't be executed if the condition was true."
   ]
  },
  {
   "cell_type": "code",
   "execution_count": null,
   "metadata": {
    "collapsed": false
   },
   "outputs": [],
   "source": [
    "sugars = int(input(\"How many teaspoons of sugar do you want?\"))\n",
    "if sugars == 0:\n",
    "    print(\"Ok, no sugar then.\")\n",
    "elif sugars == 1:\n",
    "    print(\"Ok, I'll add a teaspoon of sugar.\")\n",
    "elif sugars >= 2 and sugars < 4:\n",
    "    print(\"Ok, I'll add\", sugars, \"teaspoons of sugar.\")\n",
    "else:\n",
    "    print(\"Wow! That's a lot of sugar.\")"
   ]
  },
  {
   "cell_type": "markdown",
   "metadata": {},
   "source": [
    "Let's re-write the example above and replace the two *==* operators by *<*."
   ]
  },
  {
   "cell_type": "code",
   "execution_count": null,
   "metadata": {
    "collapsed": true
   },
   "outputs": [],
   "source": [
    "sugars = int(input(\"How many teaspoons of sugar do you want?\"))\n",
    "if sugars < 1:\n",
    "    print(\"Ok, no sugar then.\")\n",
    "elif sugars < 2:\n",
    "    print(\"Ok, I'll add a teaspoon of sugar.\")\n",
    "elif sugars >= 2 and sugars < 4:\n",
    "    print(\"Ok, I'll add\", sugars, \"teaspoons of sugar.\")\n",
    "else:\n",
    "    print(\"Wow! That's a lot of sugar.\")"
   ]
  },
  {
   "cell_type": "markdown",
   "metadata": {},
   "source": [
    "We can simply it even further by removing the *and* operator.  Why is **sugars >= 2 and** not needed?"
   ]
  },
  {
   "cell_type": "code",
   "execution_count": null,
   "metadata": {
    "collapsed": false
   },
   "outputs": [],
   "source": [
    "sugars = int(input(\"How many teaspoons of sugar do you want?\"))\n",
    "if sugars < 1:\n",
    "    print(\"Ok, no sugar then.\")\n",
    "elif sugars < 2:\n",
    "    print(\"Ok, I'll add a teaspoon of sugar.\")\n",
    "elif sugars < 4:\n",
    "    print(\"Ok, I'll add\", sugars, \"teaspoons of sugar.\")\n",
    "else:\n",
    "    print(\"Wow! That's a lot of sugar.\")"
   ]
  },
  {
   "cell_type": "markdown",
   "metadata": {},
   "source": [
    "## Inline if statements\n",
    "There are several other ways of using the **if** statements.\n",
    "\n",
    "### You can use an if as part of an expression\n",
    "Consider the following example where we ask the for a number and at the end print if it is bigger than 5 or less than 6."
   ]
  },
  {
   "cell_type": "code",
   "execution_count": null,
   "metadata": {
    "collapsed": false
   },
   "outputs": [],
   "source": [
    "n = int(input(\"Type a number between 1 and 10:\"))\n",
    "s = '' # Initialize size\n",
    "if n > 5:\n",
    "    s = \"Bigger than 5\"\n",
    "else:\n",
    "    s = \"Less than 6\"\n",
    "print(s)"
   ]
  },
  {
   "cell_type": "markdown",
   "metadata": {},
   "source": [
    "Instead of assigning **s** one value in one block or another value in the second block, we can do this all in one:"
   ]
  },
  {
   "cell_type": "code",
   "execution_count": null,
   "metadata": {
    "collapsed": false
   },
   "outputs": [],
   "source": [
    "n = int(input(\"Type a number between 1 and 10:\"))\n",
    "s = (\"Bigger than 5\" if n > 5 else \"Less than 6\")\n",
    "print(s)"
   ]
  },
  {
   "cell_type": "code",
   "execution_count": null,
   "metadata": {
    "collapsed": true
   },
   "outputs": [],
   "source": [
    "cut_slices = cut_slices + (2 if input(\"Want a sandwich?\") == \"Yes\" else 0)"
   ]
  },
  {
   "cell_type": "markdown",
   "metadata": {},
   "source": [
    "Everything after **s** (or **cut_slices**) is an expression that evaluates to one of two strings and it follows this pattern: {true-value} if {condition} else {false-value}\n",
    "\n",
    "As it is just an expression, it can also form part of an even larger expression (in this case the expression passed to the print statement).  E.g.:"
   ]
  },
  {
   "cell_type": "code",
   "execution_count": null,
   "metadata": {
    "collapsed": false,
    "scrolled": true
   },
   "outputs": [],
   "source": [
    "n = int(input(\"Type a number between 1 and 10:\"))\n",
    "print(\"Not between 1 and 10 \" if n < 1 or n > 10 else \"Bigger than 5\" if n > 5 else \"Less than six\")"
   ]
  },
  {
   "cell_type": "markdown",
   "metadata": {},
   "source": [
    "#### Copy and re-write the example above, but put round brackets in relevant places to be more explicit.  Test it by entering values 0, 1, 5, 6, 10 and 11 and ensure it still does the same as the example above."
   ]
  },
  {
   "cell_type": "code",
   "execution_count": null,
   "metadata": {
    "collapsed": true
   },
   "outputs": [],
   "source": []
  },
  {
   "cell_type": "markdown",
   "metadata": {},
   "source": [
    "### You can use if as a normal decision statements, but in-line.\n",
    "Normally we put a color (:) and then the then block (indented) on the following lines.  You can put it all on one line.  A semi-color separates different statements.  This is shorter, but not always easy to use.  If the block becomes too large, it becomes virtually impossible to fit it all in in a readable manner."
   ]
  },
  {
   "cell_type": "code",
   "execution_count": null,
   "metadata": {
    "collapsed": false
   },
   "outputs": [],
   "source": [
    "if True: print(\"It was true\"); print(\"Yes it was\")\n",
    "print(\"And that's all\")"
   ]
  },
  {
   "cell_type": "code",
   "execution_count": null,
   "metadata": {
    "collapsed": true
   },
   "outputs": [],
   "source": []
  }
 ],
 "metadata": {
  "kernelspec": {
   "display_name": "Python 3",
   "language": "python",
   "name": "python3"
  },
  "language_info": {
   "codemirror_mode": {
    "name": "ipython",
    "version": 3
   },
   "file_extension": ".py",
   "mimetype": "text/x-python",
   "name": "python",
   "nbconvert_exporter": "python",
   "pygments_lexer": "ipython3",
   "version": "3.6.0"
  }
 },
 "nbformat": 4,
 "nbformat_minor": 2
}
