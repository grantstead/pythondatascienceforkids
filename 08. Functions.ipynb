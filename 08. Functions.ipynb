{
 "cells": [
  {
   "cell_type": "markdown",
   "metadata": {},
   "source": [
    "![ContributION - An introduction to Python and Data Science](contribution.png)"
   ]
  },
  {
   "cell_type": "markdown",
   "metadata": {},
   "source": [
    "# Functions\n",
    "Functions are re-usable blocks of code that perform a specific task.  The task to perform is usually something you'll want to use in several places.  Structuring it as a function, allows it to be called from several places, making your code more re-usable.  Re-usable code is good, because it means you have less code and less code means less places for bugs to hide.\n",
    "\n",
    "Python is a rich language with much functionality already built into it.  We've already seen some of these, like print(), type(), help(), len() and range().  Let's look at a few more of these.\n",
    "\n",
    "## Build in functions\n",
    "Let's start by looking at some of the standard build-in functions that Python provides.\n",
    "\n",
    "https://docs.python.org/3.6/library/functions.html"
   ]
  },
  {
   "cell_type": "markdown",
   "metadata": {},
   "source": [
    "### Math related"
   ]
  },
  {
   "cell_type": "code",
   "execution_count": null,
   "metadata": {
    "collapsed": false
   },
   "outputs": [],
   "source": [
    "max(1, 6, 12, 14, 2)"
   ]
  },
  {
   "cell_type": "code",
   "execution_count": null,
   "metadata": {
    "collapsed": false
   },
   "outputs": [],
   "source": [
    "min(4, 6, 8, 3, 10, 4)"
   ]
  },
  {
   "cell_type": "code",
   "execution_count": null,
   "metadata": {
    "collapsed": false
   },
   "outputs": [],
   "source": [
    "abs(-35)"
   ]
  },
  {
   "cell_type": "code",
   "execution_count": null,
   "metadata": {
    "collapsed": false
   },
   "outputs": [],
   "source": [
    "bin(11)"
   ]
  },
  {
   "cell_type": "code",
   "execution_count": null,
   "metadata": {
    "collapsed": false
   },
   "outputs": [],
   "source": [
    "pow(4, 4)"
   ]
  },
  {
   "cell_type": "code",
   "execution_count": null,
   "metadata": {
    "collapsed": false
   },
   "outputs": [],
   "source": [
    "4**4\n"
   ]
  },
  {
   "cell_type": "markdown",
   "metadata": {},
   "source": [
    "### Finding out about a variable"
   ]
  },
  {
   "cell_type": "code",
   "execution_count": null,
   "metadata": {
    "collapsed": true
   },
   "outputs": [],
   "source": [
    "lst = [1, 3, 5, 8, 14, 7]"
   ]
  },
  {
   "cell_type": "code",
   "execution_count": null,
   "metadata": {
    "collapsed": false
   },
   "outputs": [],
   "source": [
    "help(lst)"
   ]
  },
  {
   "cell_type": "code",
   "execution_count": null,
   "metadata": {
    "collapsed": false
   },
   "outputs": [],
   "source": [
    "help(lst.copy)"
   ]
  },
  {
   "cell_type": "code",
   "execution_count": null,
   "metadata": {
    "collapsed": false
   },
   "outputs": [],
   "source": [
    "type(lst)"
   ]
  },
  {
   "cell_type": "code",
   "execution_count": null,
   "metadata": {
    "collapsed": false
   },
   "outputs": [],
   "source": [
    "dir(lst.__init_subclass__)"
   ]
  },
  {
   "cell_type": "code",
   "execution_count": null,
   "metadata": {
    "collapsed": false
   },
   "outputs": [],
   "source": [
    "locals()"
   ]
  },
  {
   "cell_type": "code",
   "execution_count": null,
   "metadata": {
    "collapsed": false
   },
   "outputs": [],
   "source": [
    "globals()"
   ]
  },
  {
   "cell_type": "markdown",
   "metadata": {},
   "source": [
    "#### Why do the previous outputs look so similar?"
   ]
  },
  {
   "cell_type": "markdown",
   "metadata": {},
   "source": [
    "### User interactions"
   ]
  },
  {
   "cell_type": "code",
   "execution_count": null,
   "metadata": {
    "collapsed": false
   },
   "outputs": [],
   "source": [
    "input(\"What do you want to type? \")"
   ]
  },
  {
   "cell_type": "code",
   "execution_count": null,
   "metadata": {
    "collapsed": false
   },
   "outputs": [],
   "source": [
    "print(\"Helllo\")"
   ]
  },
  {
   "cell_type": "markdown",
   "metadata": {},
   "source": [
    "### Strings"
   ]
  },
  {
   "cell_type": "code",
   "execution_count": null,
   "metadata": {
    "collapsed": false
   },
   "outputs": [],
   "source": [
    "name = \"Grant\"\n",
    "surname = \"Stead\"\n",
    "age = 44\n",
    "favorite_food = 'Roast lamb'\n",
    "favorite_movie = '5th Element'\n",
    "about_me = \"My name is {} {}. \".format(name, surname)\n",
    "about_me += \"My favorite movie is {1} and my favorite food is {0}.\".format(favorite_food, favorite_movie)\n",
    "about_me += \"I am {age} years old.\".format(**locals())"
   ]
  },
  {
   "cell_type": "code",
   "execution_count": null,
   "metadata": {
    "collapsed": false
   },
   "outputs": [],
   "source": [
    "print(about_me)"
   ]
  },
  {
   "cell_type": "code",
   "execution_count": null,
   "metadata": {
    "collapsed": false
   },
   "outputs": [],
   "source": [
    "friends = ['John', 'Paul', 'George', 'Ringo']\n",
    "\"My friends are \" + \", \".join(friends)"
   ]
  },
  {
   "cell_type": "code",
   "execution_count": null,
   "metadata": {
    "collapsed": false
   },
   "outputs": [],
   "source": [
    "help(str)"
   ]
  },
  {
   "cell_type": "code",
   "execution_count": null,
   "metadata": {
    "collapsed": false
   },
   "outputs": [],
   "source": [
    "name.upper()"
   ]
  },
  {
   "cell_type": "code",
   "execution_count": null,
   "metadata": {
    "collapsed": false
   },
   "outputs": [],
   "source": [
    "surname.lower()"
   ]
  },
  {
   "cell_type": "markdown",
   "metadata": {},
   "source": [
    "### Lists"
   ]
  },
  {
   "cell_type": "code",
   "execution_count": null,
   "metadata": {
    "collapsed": false
   },
   "outputs": [],
   "source": [
    "max(lst)"
   ]
  },
  {
   "cell_type": "code",
   "execution_count": null,
   "metadata": {
    "collapsed": false
   },
   "outputs": [],
   "source": [
    "min(lst)"
   ]
  },
  {
   "cell_type": "code",
   "execution_count": null,
   "metadata": {
    "collapsed": false
   },
   "outputs": [],
   "source": [
    "sum(lst)"
   ]
  },
  {
   "cell_type": "code",
   "execution_count": null,
   "metadata": {
    "collapsed": false
   },
   "outputs": [],
   "source": [
    "len(lst)"
   ]
  },
  {
   "cell_type": "code",
   "execution_count": null,
   "metadata": {
    "collapsed": false
   },
   "outputs": [],
   "source": [
    "all([True, True, True, 2])"
   ]
  },
  {
   "cell_type": "code",
   "execution_count": null,
   "metadata": {
    "collapsed": false
   },
   "outputs": [],
   "source": [
    "all([True, False, True, True])"
   ]
  },
  {
   "cell_type": "code",
   "execution_count": null,
   "metadata": {
    "collapsed": false
   },
   "outputs": [],
   "source": [
    "any([True, False, True, True])"
   ]
  },
  {
   "cell_type": "code",
   "execution_count": null,
   "metadata": {
    "collapsed": false
   },
   "outputs": [],
   "source": [
    "any([False, False, 0])"
   ]
  },
  {
   "cell_type": "markdown",
   "metadata": {},
   "source": [
    "### Dictionaries"
   ]
  },
  {
   "cell_type": "code",
   "execution_count": null,
   "metadata": {
    "collapsed": true
   },
   "outputs": [],
   "source": [
    "me = {'name':'Grant', 'surname':'Stead', 'age':44, 'favorite_food':'Roast lamb', 'favorite_movie':'5th Element'}"
   ]
  },
  {
   "cell_type": "code",
   "execution_count": null,
   "metadata": {
    "collapsed": false,
    "scrolled": true
   },
   "outputs": [],
   "source": [
    "me.keys()"
   ]
  },
  {
   "cell_type": "code",
   "execution_count": null,
   "metadata": {
    "collapsed": false
   },
   "outputs": [],
   "source": [
    "me.values()"
   ]
  },
  {
   "cell_type": "code",
   "execution_count": null,
   "metadata": {
    "collapsed": false
   },
   "outputs": [],
   "source": [
    "me.get('name')"
   ]
  },
  {
   "cell_type": "code",
   "execution_count": null,
   "metadata": {
    "collapsed": false
   },
   "outputs": [],
   "source": [
    "me['name']"
   ]
  },
  {
   "cell_type": "code",
   "execution_count": null,
   "metadata": {
    "collapsed": false
   },
   "outputs": [],
   "source": [
    "'name' in me"
   ]
  },
  {
   "cell_type": "code",
   "execution_count": null,
   "metadata": {
    "collapsed": false
   },
   "outputs": [],
   "source": [
    "'name' in me.keys()"
   ]
  },
  {
   "cell_type": "code",
   "execution_count": null,
   "metadata": {
    "collapsed": false
   },
   "outputs": [],
   "source": [
    "'Grant' in me.values()"
   ]
  },
  {
   "cell_type": "code",
   "execution_count": null,
   "metadata": {
    "collapsed": false
   },
   "outputs": [],
   "source": [
    "del me['favorite_food']\n",
    "me"
   ]
  },
  {
   "cell_type": "markdown",
   "metadata": {},
   "source": [
    "## Our own functions\n",
    "The functions above are quite useful.  As you've probably noticed, some of them we've been using over and over already.  If they are so useful, what happens if you have a piece of code you think is useful.  Won't you want to make it easier to use in many places?  Writing your own functions is one of the best way of achieving this.  Let's look at how to write your own function...\n",
    "\n",
    "We'll start by looking at how a function is defined.  E.g.:"
   ]
  },
  {
   "cell_type": "code",
   "execution_count": null,
   "metadata": {
    "collapsed": true
   },
   "outputs": [],
   "source": [
    "def multiply(num1, num2):\n",
    "    \"\"\" This function calculates the product of two numbers. \"\"\"\n",
    "    total = num1 * num2\n",
    "    return total"
   ]
  },
  {
   "cell_type": "code",
   "execution_count": null,
   "metadata": {
    "collapsed": false
   },
   "outputs": [],
   "source": [
    "ret = multiply(2, 12)\n",
    "print(ret)"
   ]
  },
  {
   "cell_type": "code",
   "execution_count": null,
   "metadata": {
    "collapsed": false
   },
   "outputs": [],
   "source": [
    "type(multiply)"
   ]
  },
  {
   "cell_type": "markdown",
   "metadata": {},
   "source": [
    "The **def** keyword indicates that we're about to define a function.  We give it a name, **multiply** in our case, we have opening and closing brackets and a colon at the end.  **num1** and **num2** are arguments (or parameters) that we want someone to pass us.  They are just variables in our function.  There doesn't need to be any arguments and there can be any number of them.  In our case we have two.\n",
    "\n",
    "The first statement after the colon can be a string, which becomes our **doc string**.  If you ask for help on the function, it will be shown as part of the help."
   ]
  },
  {
   "cell_type": "code",
   "execution_count": null,
   "metadata": {
    "collapsed": false
   },
   "outputs": [],
   "source": [
    "help(multiply)"
   ]
  },
  {
   "cell_type": "markdown",
   "metadata": {},
   "source": [
    "The piece of code (including the **doc string**) that we want to execute when we call the function is **indented** (after the colon).  This is the same block indentation as we saw in the **if**, **while** and **for** statements.  In our case there are 3 lines (the **doc string**, calculating the total and **returning** the total).  The **return** keyword exits the functions.  If it is followed by an expression, then the result of the expression is returned to the caller.\n",
    "\n",
    "You can call your function just like you've called any other function.  You put the name, the opening bracket, any parameters you want/need to specify (as an expression) and the closing braket.  E.g."
   ]
  },
  {
   "cell_type": "code",
   "execution_count": null,
   "metadata": {
    "collapsed": false
   },
   "outputs": [],
   "source": [
    "multiply(4, 6)"
   ]
  },
  {
   "cell_type": "markdown",
   "metadata": {},
   "source": [
    "When we called it with two parameters, 4 and 6, it calculated the total, 24, and returned it (using the return statement).  The Jupyter notebook prints it out to the screen.\n",
    "\n",
    "You can also give the name of the arguments explicitly:"
   ]
  },
  {
   "cell_type": "code",
   "execution_count": null,
   "metadata": {
    "collapsed": false
   },
   "outputs": [],
   "source": [
    "multiply(num1=4, num2=6)"
   ]
  },
  {
   "cell_type": "markdown",
   "metadata": {},
   "source": [
    "#### Can you change the order?\n",
    "If you want to, be sure to give the names like we did above."
   ]
  },
  {
   "cell_type": "code",
   "execution_count": null,
   "metadata": {
    "collapsed": false
   },
   "outputs": [],
   "source": []
  },
  {
   "cell_type": "markdown",
   "metadata": {},
   "source": [
    "### The Return keyword"
   ]
  },
  {
   "cell_type": "markdown",
   "metadata": {},
   "source": [
    "#### Copy the function here and change it by removing the last line (return total)."
   ]
  },
  {
   "cell_type": "code",
   "execution_count": null,
   "metadata": {
    "collapsed": true
   },
   "outputs": [],
   "source": [
    "def multiply(num1, num2):\n",
    "    \"\"\" This function calculates the product of two numbers. \"\"\"\n",
    "    total = num1 * num2"
   ]
  },
  {
   "cell_type": "markdown",
   "metadata": {},
   "source": [
    "#### What happens when you call it now?  Why?"
   ]
  },
  {
   "cell_type": "code",
   "execution_count": null,
   "metadata": {
    "collapsed": false
   },
   "outputs": [],
   "source": [
    "multiply(4, 6)"
   ]
  },
  {
   "cell_type": "markdown",
   "metadata": {},
   "source": [
    "#### Add a line at the end that says just \"return\" (without putting total).  Call it again.  What happens?  Why?"
   ]
  },
  {
   "cell_type": "code",
   "execution_count": null,
   "metadata": {
    "collapsed": true
   },
   "outputs": [],
   "source": []
  },
  {
   "cell_type": "code",
   "execution_count": null,
   "metadata": {
    "collapsed": false
   },
   "outputs": [],
   "source": [
    "multiply(4, 6)"
   ]
  },
  {
   "cell_type": "markdown",
   "metadata": {},
   "source": [
    "#### Fix your function and test it works as expected.  Use the \"assert\" keyword.\n",
    "(see https://docs.python.org/3/reference/simple_stmts.html#the-assert-statement)"
   ]
  },
  {
   "cell_type": "code",
   "execution_count": null,
   "metadata": {
    "collapsed": true
   },
   "outputs": [],
   "source": [
    "def multiply(num1, num2):\n",
    "    \"\"\" This function calculates the product of numbers. \"\"\"\n",
    "    total = num1 * num2\n",
    "    return total"
   ]
  },
  {
   "cell_type": "code",
   "execution_count": null,
   "metadata": {
    "collapsed": false
   },
   "outputs": [],
   "source": [
    "assert multiply(4, 6) == 24, \"You haven't fixed it correctly yet\""
   ]
  },
  {
   "cell_type": "markdown",
   "metadata": {},
   "source": [
    "#### What happens if you have two \"return\" statements in a function?  (Hint: Put a return before the calculation.  Add print statements in your code to see what is happening)."
   ]
  },
  {
   "cell_type": "code",
   "execution_count": null,
   "metadata": {
    "collapsed": true
   },
   "outputs": [],
   "source": []
  },
  {
   "cell_type": "code",
   "execution_count": null,
   "metadata": {
    "collapsed": true
   },
   "outputs": [],
   "source": []
  },
  {
   "cell_type": "markdown",
   "metadata": {},
   "source": [
    "#### Fix your function again."
   ]
  },
  {
   "cell_type": "code",
   "execution_count": null,
   "metadata": {
    "collapsed": true
   },
   "outputs": [],
   "source": [
    "def multiply(num1, num2):\n",
    "    \"\"\" This function calculates the product of two numbers. \"\"\"\n",
    "    total = num1 * num2\n",
    "    return total"
   ]
  },
  {
   "cell_type": "markdown",
   "metadata": {},
   "source": [
    "### Arguments\n",
    "In the example above we had two arguments, num1 and num2.\n",
    "\n",
    "#### What happens if you leave one of them out?"
   ]
  },
  {
   "cell_type": "code",
   "execution_count": null,
   "metadata": {
    "collapsed": false
   },
   "outputs": [],
   "source": [
    "multiply(4)"
   ]
  },
  {
   "cell_type": "markdown",
   "metadata": {},
   "source": [
    "Both arguments are mandatory.  You can make them optional by providing a default values."
   ]
  },
  {
   "cell_type": "code",
   "execution_count": null,
   "metadata": {
    "collapsed": true
   },
   "outputs": [],
   "source": [
    "def multiply(num1=2, num2=10):\n",
    "    \"\"\" This function calculates the product for two numbers. \"\"\"\n",
    "    total = num1 * num2\n",
    "    return total"
   ]
  },
  {
   "cell_type": "code",
   "execution_count": null,
   "metadata": {
    "collapsed": false
   },
   "outputs": [],
   "source": [
    "multiply(4)"
   ]
  },
  {
   "cell_type": "markdown",
   "metadata": {},
   "source": [
    "If they are optional, you can also specify which one you want to pass, by using the argument's name."
   ]
  },
  {
   "cell_type": "code",
   "execution_count": null,
   "metadata": {
    "collapsed": false
   },
   "outputs": [],
   "source": [
    "multiply(num2=6)"
   ]
  },
  {
   "cell_type": "markdown",
   "metadata": {},
   "source": [
    "It is also possible to have any number of arguments without really knowing how many are going to be passed in to your function when called.\n",
    "\n",
    "#### Does the following work?"
   ]
  },
  {
   "cell_type": "code",
   "execution_count": null,
   "metadata": {
    "collapsed": false
   },
   "outputs": [],
   "source": [
    "multiply(3, 4, 5)"
   ]
  },
  {
   "cell_type": "markdown",
   "metadata": {},
   "source": [
    "To make it work you can add num3.  What happens if you don't know how many numbers are going to be passed in.  You can use *variable-length arguments* as below.  **Note the asterisk before the argument name**"
   ]
  },
  {
   "cell_type": "code",
   "execution_count": null,
   "metadata": {
    "collapsed": true
   },
   "outputs": [],
   "source": [
    "def multiply(*nums):\n",
    "    \"\"\" This function calculates the product for a list of numbers. \"\"\"\n",
    "    total = 1\n",
    "    for n in nums:\n",
    "        total = total * n\n",
    "    return total"
   ]
  },
  {
   "cell_type": "code",
   "execution_count": null,
   "metadata": {
    "collapsed": false
   },
   "outputs": [],
   "source": [
    "multiply(3, 4, 5, 3, 4 , 7, 12, 14)"
   ]
  },
  {
   "cell_type": "code",
   "execution_count": null,
   "metadata": {
    "collapsed": true
   },
   "outputs": [],
   "source": [
    "def addition(*nums):\n",
    "    \"\"\" This function calculates the total for a list of numbers. \"\"\"\n",
    "    total = 0\n",
    "    for n in nums:\n",
    "        total = total + n\n",
    "    return total"
   ]
  },
  {
   "cell_type": "code",
   "execution_count": null,
   "metadata": {
    "collapsed": false
   },
   "outputs": [],
   "source": [
    "addition(3, 4, 6, 8, 3, 12)"
   ]
  },
  {
   "cell_type": "markdown",
   "metadata": {},
   "source": [
    "#### Add a few \"print\" statements in the code above to see what it is doing.  Do you understand it a bit better now?"
   ]
  },
  {
   "cell_type": "code",
   "execution_count": null,
   "metadata": {
    "collapsed": false
   },
   "outputs": [],
   "source": [
    "multiply(1, 2, 3, 4, 5, 6, 7, 8, 9)"
   ]
  },
  {
   "cell_type": "markdown",
   "metadata": {},
   "source": [
    "In the example above, nums is a **tuple**, and tuples can be iterated over.\n",
    "\n",
    "It is possible to get a **dict** instead of a **tuple** by specifying two astrisks."
   ]
  },
  {
   "cell_type": "code",
   "execution_count": null,
   "metadata": {
    "collapsed": false
   },
   "outputs": [],
   "source": [
    "def multiply(**nums):\n",
    "    \"\"\" This function calculates the product for a list of numbers. \"\"\"\n",
    "    total = 1\n",
    "    for n in nums.keys():\n",
    "        total = total * nums[n]\n",
    "    formula = \" * \".join(nums.keys()) + \" = \" + str(total)\n",
    "    return (total, formula)"
   ]
  },
  {
   "cell_type": "code",
   "execution_count": null,
   "metadata": {
    "collapsed": false
   },
   "outputs": [],
   "source": [
    "(answer, equation) = multiply(a=5, b=6, c=3)\n",
    "print(\"Answer:\", answer)\n",
    "print(\"Equation:\", equation)"
   ]
  },
  {
   "cell_type": "markdown",
   "metadata": {},
   "source": [
    "#### Add a few print statements in the code above to see what it is doing."
   ]
  },
  {
   "cell_type": "code",
   "execution_count": null,
   "metadata": {
    "collapsed": false
   },
   "outputs": [],
   "source": [
    "(volume, equation) = multiply(width=40, height=10, depth=2)\n",
    "print(volume, \"(equation:\", equation, \")\")"
   ]
  },
  {
   "cell_type": "markdown",
   "metadata": {},
   "source": [
    "## Global vs Locals (again)\n",
    "If a variable is created (assigned a value for the first time) inside a function, then it is a **local** variable.  It only exists from that point onwards in the function.  Once the function exists, it will no longer exist.  Any variable defined outside of a function, will have a **global** scope.  It will *also* exist within the function.  Where it exists is called the scope of the variable."
   ]
  },
  {
   "cell_type": "code",
   "execution_count": null,
   "metadata": {
    "collapsed": false
   },
   "outputs": [],
   "source": [
    "def multiply(**nums):\n",
    "    \"\"\" This function calculates the statistical mean for a list of numbers. \"\"\"\n",
    "    print(\"At the start of multiply\")\n",
    "    print('  total in locals() : {}'.format('total' in locals()))\n",
    "    print('  total in globals() : {}'.format('total' in globals()))\n",
    "    total = 1\n",
    "    for n in nums:\n",
    "        total = total * nums[n]\n",
    "    print(\"At the end of multiply\")\n",
    "    print('  total in locals() : {}'.format('total' in locals()))\n",
    "    print('  total in globals() : {}'.format('total' in globals()))\n",
    "    return total"
   ]
  },
  {
   "cell_type": "code",
   "execution_count": null,
   "metadata": {
    "collapsed": false
   },
   "outputs": [],
   "source": [
    "print(\"Before calling\")\n",
    "print('  total in locals() : {}'.format('total' in locals()))\n",
    "print('  total in globals() : {}'.format('total' in globals()))\n",
    "multiply(w=4, h=5)\n",
    "print(\"After calling\")\n",
    "print('  total in locals() : {}'.format('total' in locals()))\n",
    "print('  total in globals() : {}'.format('total' in globals()))"
   ]
  },
  {
   "cell_type": "markdown",
   "metadata": {},
   "source": [
    "You can use the **global** keyword (not function) to bring a global variable into the scope of the function."
   ]
  },
  {
   "cell_type": "markdown",
   "metadata": {},
   "source": [
    "## Passing by reference\n",
    "Values are always passed by reference.  This means that if you pass in a mutable variable and change it, it will be changed after you've returned from the function."
   ]
  },
  {
   "cell_type": "code",
   "execution_count": null,
   "metadata": {
    "collapsed": false
   },
   "outputs": [],
   "source": [
    "def add_one(my_list, to_add):\n",
    "    \"\"\" Add a value to a list. \"\"\"\n",
    "    my_list.append(to_add)\n",
    "lst = [1, 2, 3]\n",
    "add_one(lst, 4)\n",
    "print(lst)"
   ]
  },
  {
   "cell_type": "markdown",
   "metadata": {},
   "source": [
    "In the above code, the local vairable, **my_list**, is not returned, it is simply changed.  The global variable **lst** was also changed.  That is because a list is a mutable variable and **my_list** and **lst** point to the same place in memory.  When one changes, so does the other.  When the function returns, **lst** still points to the same place in memory as before, but as that value has now changed, **lst** has also changed."
   ]
  },
  {
   "cell_type": "code",
   "execution_count": null,
   "metadata": {
    "collapsed": false
   },
   "outputs": [],
   "source": [
    "def add_two(num1):\n",
    "    \"\"\" Adds 2 to any number. \"\"\"\n",
    "    num1 = num1 + 2\n",
    "    print(\"num1=\", num1)\n",
    "a = 3\n",
    "print(\"a=\", a)\n",
    "add_two(a)\n",
    "print(\"a=\", a)"
   ]
  },
  {
   "cell_type": "markdown",
   "metadata": {},
   "source": [
    "In the example above, **a** is an immutable variable (an int), so cannot be changed.  **num1** and **a** don't point to the same place in memory, but have the same value (3).  When **num1** assigned a new value, it points to a 3rd place in memory (the one that has the value 5).  After the function returns, **a** still points to the same memory it was before, which still contains the value 3."
   ]
  },
  {
   "cell_type": "markdown",
   "metadata": {},
   "source": [
    "#### Create a function that introduces someone.  Remember to write proper clean code.  Remember to test your code"
   ]
  },
  {
   "cell_type": "code",
   "execution_count": null,
   "metadata": {
    "collapsed": true
   },
   "outputs": [],
   "source": []
  },
  {
   "cell_type": "code",
   "execution_count": null,
   "metadata": {
    "collapsed": true
   },
   "outputs": [],
   "source": []
  },
  {
   "cell_type": "code",
   "execution_count": null,
   "metadata": {
    "collapsed": true
   },
   "outputs": [],
   "source": []
  },
  {
   "cell_type": "markdown",
   "metadata": {},
   "source": [
    "#### Create a function that calculates the median of a list of numbers?"
   ]
  },
  {
   "cell_type": "code",
   "execution_count": null,
   "metadata": {
    "collapsed": true
   },
   "outputs": [],
   "source": []
  },
  {
   "cell_type": "code",
   "execution_count": null,
   "metadata": {
    "collapsed": true
   },
   "outputs": [],
   "source": []
  },
  {
   "cell_type": "code",
   "execution_count": null,
   "metadata": {
    "collapsed": true
   },
   "outputs": [],
   "source": []
  }
 ],
 "metadata": {
  "kernelspec": {
   "display_name": "Python 3",
   "language": "python",
   "name": "python3"
  },
  "language_info": {
   "codemirror_mode": {
    "name": "ipython",
    "version": 3
   },
   "file_extension": ".py",
   "mimetype": "text/x-python",
   "name": "python",
   "nbconvert_exporter": "python",
   "pygments_lexer": "ipython3",
   "version": "3.6.0"
  }
 },
 "nbformat": 4,
 "nbformat_minor": 2
}
