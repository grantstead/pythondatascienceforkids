{
 "cells": [
  {
   "cell_type": "markdown",
   "metadata": {},
   "source": [
    "![ContributION - An introduction to Python and Data Science](contribution.png)"
   ]
  },
  {
   "cell_type": "markdown",
   "metadata": {},
   "source": [
    "# Exception handling\n",
    "Exception handling is a way for us to protect against things that might go wrong while the program is running.  Programs often get input for sources that are not always reliable (like from people).  Exception handling is the basic way in which we can detect such conditions and deal with them.\n",
    "\n",
    "Consider the following very basic calculator:"
   ]
  },
  {
   "cell_type": "code",
   "execution_count": null,
   "metadata": {
    "collapsed": false
   },
   "outputs": [],
   "source": [
    "n1 = int(input(\"Enter first number?\"))\n",
    "n2 = int(input(\"Enter second number?\"))\n",
    "print(n1 / n2)"
   ]
  },
  {
   "cell_type": "markdown",
   "metadata": {},
   "source": [
    "#### What happens when you enter *0* for the second number?"
   ]
  },
  {
   "cell_type": "markdown",
   "metadata": {},
   "source": [
    "#### How can you protect against this?"
   ]
  },
  {
   "cell_type": "markdown",
   "metadata": {},
   "source": [
    "#### What happens if you enter a word in the second number?  What about if you do it for the first number?\n",
    "\n",
    "Many things could potentially go wrong, so checking the values are *correct* before using them can become harder.\n",
    "\n",
    "An easier (better?) way is to get Python to tell you when there has been a problem, but do it in such a way that you can react appropriately.  Instead of showing the *ValueError* or *ZeroDivisionError* on screen (and not executing the rest of the code), we can *trap* it programatically, and then deal with it appropriately.  This can be done using the **try/except** statement.\n",
    "\n",
    "In the example below, we use the **try** keyword (followed by a colon) to indicate the start of the block of code we want to protect.  If there is an error in the (indented) block, it will (potentially) be treated by one of the **except** blocks.  Each **except** *block* has an *exception kind* (and optional **as &lt;variable&gt;**).  If the problem (also known as *error* or *exception* that happened matches the *exception kind*, then that block will be executed (similar to an *if* statement).  Only one of these *except* blocks will be called (the first one where the *exception kind* matches).  \n",
    "\n",
    "If no problem happened, then *none* of the **except** blocks are executed.\n",
    "\n",
    "The **try** statement can also have a **finally** block, which is always called irrespective of if there was a problem or not.  It will be executed last.\n",
    "\n",
    "When problems like these are *raised*, they give you a certain amount of information.  It typically says where it happened (line number), what the *exception kind* is (e.g. *ZeroDivisionError*) and might give more information about it (e.g. *division by zero*).  If you're going to try and deal with an exception, you can easily see which *exception kind* to protect against by running it with a problem, noting down the *exception kind*, improving your program, and then re-running it to check it works better.\n",
    "\n",
    "#### Try a change the calculation so that it can deal with the ZeroDivisionError exception kind."
   ]
  },
  {
   "cell_type": "code",
   "execution_count": null,
   "metadata": {
    "collapsed": true
   },
   "outputs": [],
   "source": []
  },
  {
   "cell_type": "markdown",
   "metadata": {},
   "source": [
    "#### Does it still work when you try 3 / 2?"
   ]
  },
  {
   "cell_type": "code",
   "execution_count": null,
   "metadata": {
    "collapsed": true
   },
   "outputs": [],
   "source": []
  },
  {
   "cell_type": "markdown",
   "metadata": {},
   "source": [
    "#### Next, try calculating 3 / 0.  What happens?"
   ]
  },
  {
   "cell_type": "code",
   "execution_count": null,
   "metadata": {
    "collapsed": true
   },
   "outputs": [],
   "source": []
  },
  {
   "cell_type": "markdown",
   "metadata": {},
   "source": [
    "#### We can deal with dividing by zero, but what about 3 / \"one\"?\n",
    "\n",
    "#### Copy the code to below and add a new *except* statement that *traps* the problem and deals with it as well."
   ]
  },
  {
   "cell_type": "code",
   "execution_count": null,
   "metadata": {
    "collapsed": true
   },
   "outputs": [],
   "source": []
  },
  {
   "cell_type": "markdown",
   "metadata": {},
   "source": [
    "#### Next, improve your calculator to let the user retry if there was a problem.  Keep retrying until a proper calculation could be performed."
   ]
  },
  {
   "cell_type": "code",
   "execution_count": null,
   "metadata": {
    "collapsed": true
   },
   "outputs": [],
   "source": []
  },
  {
   "cell_type": "markdown",
   "metadata": {},
   "source": [
    "## Raising exceptions\n",
    "When you are writing your code that you or someone else might use, it might be handy to have specific problems raised as exceptions.  E.g. if you write a *library* that managed students, and you try and remove a student, but the student doesn't even exist, you might want to *raise* your own exception indicating the student could not be found.  We won't go into details, but know that you can create your own *exception kinds* (by inheriting from an existing *exception kind* (which is a *class*) and *raising* or *throwing* it by using the **raise** keyword.  Below is an example of raising an exception of the generic **Exception** *exception kind*."
   ]
  },
  {
   "cell_type": "code",
   "execution_count": null,
   "metadata": {
    "collapsed": false
   },
   "outputs": [],
   "source": [
    "raise Exception(\"my own error\")"
   ]
  },
  {
   "cell_type": "markdown",
   "metadata": {},
   "source": [
    "As you can see, this looks like there was a problem, and would have to be dealt with using *try/except* blocks."
   ]
  },
  {
   "cell_type": "markdown",
   "metadata": {},
   "source": [
    "## Syntax Errors\n",
    "Sometimes when you're typing up some code you get an error when you try and execute it (like when you forget to put brackets around the expression you're trying to **print**).  This kind of error doesn't happen when you **run** your program, but rather when *python* tries to understand what you want it to do.  This cannot be dealt with in a **try/except** block.  This is typically a programming error that needs to be corrected.  E.g."
   ]
  },
  {
   "cell_type": "code",
   "execution_count": null,
   "metadata": {
    "collapsed": false
   },
   "outputs": [],
   "source": [
    "print \"Look, no quotes in python 3 doesn't work\""
   ]
  }
 ],
 "metadata": {
  "kernelspec": {
   "display_name": "Python 3",
   "language": "python",
   "name": "python3"
  },
  "language_info": {
   "codemirror_mode": {
    "name": "ipython",
    "version": 3
   },
   "file_extension": ".py",
   "mimetype": "text/x-python",
   "name": "python",
   "nbconvert_exporter": "python",
   "pygments_lexer": "ipython3",
   "version": "3.6.0"
  }
 },
 "nbformat": 4,
 "nbformat_minor": 2
}
