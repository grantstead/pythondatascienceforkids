{
 "cells": [
  {
   "cell_type": "markdown",
   "metadata": {},
   "source": [
    "![ContributION - An introduction to Python and Data Science](contribution.png)"
   ]
  },
  {
   "cell_type": "markdown",
   "metadata": {},
   "source": [
    "# While loops\n",
    "**While** is a statement at the starts a block of code (indented on the next line onwards) that indicates a condition (an expression), which while True, will cause the block of code to be executed over and over.  If the condition is (or becomes) False, then the block will not be executed and the program will continue from the first line **after** the block.\n",
    "\n",
    "Let's say we want to calculate n! (if n=5 then n! = 1 x 2 x 3 x 4 x 5 = 120)"
   ]
  },
  {
   "cell_type": "code",
   "execution_count": null,
   "metadata": {
    "collapsed": false,
    "scrolled": true
   },
   "outputs": [],
   "source": [
    "n = int(input(\"Enter a number? \"))\n",
    "a = 1\n",
    "total = a\n",
    "while a <= n:\n",
    "    total = total * a\n",
    "    a = a + 1\n",
    "print(n, \"! =\", total)"
   ]
  },
  {
   "cell_type": "markdown",
   "metadata": {},
   "source": [
    "In the example above the **while** statement checks a condition (**a <= n**).  While this is true, the block (the next two lines) is executed.  Once it is no longer true, the block is not executed anymore, but the following line (the last one) is executed.  The last line is not executed until the while statement's condition is False.\n",
    "\n",
    "The following does the same, but the condition is different."
   ]
  },
  {
   "cell_type": "code",
   "execution_count": null,
   "metadata": {
    "collapsed": false
   },
   "outputs": [],
   "source": [
    "n = int(input(\"Enter a number? \"))\n",
    "initial_n = n\n",
    "total = 1\n",
    "while n > 1:\n",
    "    total = total * n\n",
    "    n = n - 1\n",
    "print(initial_n, \"! =\", total)"
   ]
  },
  {
   "cell_type": "markdown",
   "metadata": {},
   "source": [
    "#### Write a loop that calculates the fibbonaci series until a it reaches at least a certain number.\n",
    "\n",
    "The fibbonaci series takes two numbers, 1 and 1, as a starting point.  It then take the last 2 numbers in the series add them together and adds the result as a new number in the series.  It then again takes the last 2 numbers (now the previously last one and the newly calculated one), adds them together and adds the total to the series."
   ]
  },
  {
   "cell_type": "code",
   "execution_count": null,
   "metadata": {
    "collapsed": false
   },
   "outputs": [],
   "source": [
    "a = 1\n",
    "b = 1"
   ]
  },
  {
   "cell_type": "code",
   "execution_count": null,
   "metadata": {
    "collapsed": true
   },
   "outputs": [],
   "source": []
  },
  {
   "cell_type": "markdown",
   "metadata": {},
   "source": [
    "By the way, you can print out a list using a while loop by doing something like this:"
   ]
  },
  {
   "cell_type": "code",
   "execution_count": null,
   "metadata": {
    "collapsed": false
   },
   "outputs": [],
   "source": [
    "a = [1, 6, 3, 5, 8, 2, 8, 3, 4, 9]\n",
    "i = 0\n",
    "while i < len(a):\n",
    "    print(a[i])\n",
    "    i += 1"
   ]
  },
  {
   "cell_type": "markdown",
   "metadata": {},
   "source": [
    "### While loops can be dangerous!\n",
    "\n",
    "#### What happens if the condition never becomes false?  Run the example below, then change the first line to **condition = True**, then run it again."
   ]
  },
  {
   "cell_type": "code",
   "execution_count": null,
   "metadata": {
    "collapsed": false
   },
   "outputs": [],
   "source": [
    "condition = False\n",
    "while condition:\n",
    "    print(\"Condition was\", condition)\n",
    "print(\"condition ended up being\", condition)"
   ]
  },
  {
   "cell_type": "markdown",
   "metadata": {},
   "source": [
    "See what the code below does and then click the **Stop** button in the Jupyter toolbar.\n",
    "\n",
    "There are other ways out of an endless loop.  You can use the **break** statement to exit the loop from where ever it is called (without even checking the condition), even though the condition never became false."
   ]
  },
  {
   "cell_type": "code",
   "execution_count": null,
   "metadata": {
    "collapsed": false
   },
   "outputs": [],
   "source": [
    "a = 10\n",
    "while True:\n",
    "    print(a)\n",
    "    if a == 0:\n",
    "        break\n",
    "    a = a - 1"
   ]
  },
  {
   "cell_type": "markdown",
   "metadata": {},
   "source": [
    "A **while** statement can also have an **else** statement, which is called when the loop ends due to the condition becoming false."
   ]
  },
  {
   "cell_type": "code",
   "execution_count": null,
   "metadata": {
    "collapsed": false
   },
   "outputs": [],
   "source": [
    "a = 10\n",
    "while True:\n",
    "    print(a)\n",
    "    if a == 0:\n",
    "        break\n",
    "    a = a - 1\n",
    "else:\n",
    "    print(\"Exited normally\")"
   ]
  },
  {
   "cell_type": "markdown",
   "metadata": {},
   "source": [
    "In the example above, the **else** block isn't executed, because the loops was broken out of.  If the example below, the while loop stops because the condition becomes false, and hence the **else** statement is executed.\n",
    "\n",
    "#### What happens if the condition in the example above is changed from *True* to *a > 5*?"
   ]
  },
  {
   "cell_type": "code",
   "execution_count": null,
   "metadata": {
    "collapsed": false
   },
   "outputs": [],
   "source": []
  },
  {
   "cell_type": "markdown",
   "metadata": {},
   "source": [
    "You can also tell it to skip the rest of the block, but re-check the condition, by using the **continue** statement.  **continue** effectively means continue to the next iteration of the while loop."
   ]
  },
  {
   "cell_type": "code",
   "execution_count": null,
   "metadata": {
    "collapsed": false
   },
   "outputs": [],
   "source": [
    "a = 10\n",
    "while a > 0:\n",
    "    a = a - 1\n",
    "    if a == 2 or a == 4:\n",
    "        continue\n",
    "    print(a)\n",
    "print(\"All done\")"
   ]
  },
  {
   "cell_type": "markdown",
   "metadata": {},
   "source": [
    "#### What happens if the line *a = a - 1* is moved to the end of the loop?  Why?"
   ]
  },
  {
   "cell_type": "code",
   "execution_count": null,
   "metadata": {
    "collapsed": true
   },
   "outputs": [],
   "source": []
  },
  {
   "cell_type": "markdown",
   "metadata": {},
   "source": [
    "#### Can you make a basic calculator that keeps adding numbers and prints a total by using what you've learns so far?\n",
    "\n",
    "When making the calculator, continue asking for numbers (using the input() function) until **0** is entered as a value."
   ]
  },
  {
   "cell_type": "code",
   "execution_count": null,
   "metadata": {
    "collapsed": false
   },
   "outputs": [],
   "source": []
  },
  {
   "cell_type": "markdown",
   "metadata": {},
   "source": [
    "#### What if you want to not just show the sum, but also the count, maximum and minimum?  Copy and change your calculator below."
   ]
  },
  {
   "cell_type": "code",
   "execution_count": null,
   "metadata": {
    "collapsed": true
   },
   "outputs": [],
   "source": []
  },
  {
   "cell_type": "markdown",
   "metadata": {},
   "source": [
    "#### What about the average?"
   ]
  },
  {
   "cell_type": "code",
   "execution_count": null,
   "metadata": {
    "collapsed": true
   },
   "outputs": [],
   "source": []
  },
  {
   "cell_type": "markdown",
   "metadata": {},
   "source": [
    "#### What about the median...?  You can't do it by just having simple variables.  You need to keep all values (in a list) and perform the median calculation after you have all values."
   ]
  },
  {
   "cell_type": "code",
   "execution_count": null,
   "metadata": {
    "collapsed": true
   },
   "outputs": [],
   "source": []
  }
 ],
 "metadata": {
  "kernelspec": {
   "display_name": "Python 3",
   "language": "python",
   "name": "python3"
  },
  "language_info": {
   "codemirror_mode": {
    "name": "ipython",
    "version": 3
   },
   "file_extension": ".py",
   "mimetype": "text/x-python",
   "name": "python",
   "nbconvert_exporter": "python",
   "pygments_lexer": "ipython3",
   "version": "3.6.0"
  }
 },
 "nbformat": 4,
 "nbformat_minor": 2
}
