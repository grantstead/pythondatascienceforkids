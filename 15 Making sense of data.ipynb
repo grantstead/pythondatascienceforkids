{
 "cells": [
  {
   "cell_type": "markdown",
   "metadata": {},
   "source": [
    "![ContributION - An introduction to Python and Data Science](contribution.png)"
   ]
  },
  {
   "cell_type": "markdown",
   "metadata": {},
   "source": [
    "# Pandas\n",
    "In this session we will learn about how to work with data sets, which are basically like tables.\n",
    "\n",
    "We'll use a new library that makes it easy working with data sets.  The **pandas** (a.k.a. pd) library works very similar to numpy, except that it can mix different types of data.  You can find out what data it contains by simply printing it out (or getting meta-data using .info()).\n",
    "\n",
    "Pandas basically keeps information as a table.  Just like in numpy, you can filter for specific rows and you can decide which columns you want to work with.  It's possible to work with multiple columns at a time, but we'll focus on just the basics and typically use just one column (using the square bracket notation to say which column).\n",
    "\n",
    "To make it easier to see how it works, We'll be working with a data set (saved as a .csv file) containing more than 5000 movies with information coming from various sources, including an IMDB rating, gross income, budget, year, facebook likes, and more.  We'll also use this data set to plot some information, so we'll start by importing the usual things to plotting."
   ]
  },
  {
   "cell_type": "code",
   "execution_count": null,
   "metadata": {
    "collapsed": true
   },
   "outputs": [],
   "source": [
    "# Set up matplotlib and use a nicer set of plot parameters\n",
    "%config InlineBackend.rc = {}\n",
    "import matplotlib\n",
    "import matplotlib.pyplot as plt\n",
    "%matplotlib inline\n",
    "import numpy as np\n",
    "matplotlib.rcParams['figure.figsize']=(15, 15)"
   ]
  },
  {
   "cell_type": "markdown",
   "metadata": {},
   "source": [
    "Next we need to import pandas if we was to work with it.  Just as numpy is typically imported as np, Pandas is typically imported as **pd**."
   ]
  },
  {
   "cell_type": "code",
   "execution_count": null,
   "metadata": {
    "collapsed": true
   },
   "outputs": [],
   "source": [
    "import pandas as pd"
   ]
  },
  {
   "cell_type": "markdown",
   "metadata": {},
   "source": [
    "One of the most basic uses it to read a file and represent it as a table in memory.  Below we read the *move_metadata.csv* file into memory (using Pandas' read_cvs method).  We save this in the **df** variable (because it is a **d**ata **f**rame, using the Pandas terminology)."
   ]
  },
  {
   "cell_type": "code",
   "execution_count": null,
   "metadata": {
    "collapsed": true
   },
   "outputs": [],
   "source": [
    "df = pd.read_csv('movie_metadata.csv')"
   ]
  },
  {
   "cell_type": "markdown",
   "metadata": {},
   "source": [
    "Its easy to see what data it contains.  Just print it.  Jupiter knows how to display it as a table.  It won't print all the rows if there are too many of them."
   ]
  },
  {
   "cell_type": "code",
   "execution_count": null,
   "metadata": {
    "collapsed": false
   },
   "outputs": [],
   "source": [
    "df"
   ]
  },
  {
   "cell_type": "markdown",
   "metadata": {},
   "source": [
    "You can also find out more about the content, by looking at the data frame's metadata, by using the **info()** method.  This will tell you what columns there are, their types and how many non-null values the column contains.  It also gives a bit more info about row count."
   ]
  },
  {
   "cell_type": "code",
   "execution_count": null,
   "metadata": {
    "collapsed": false
   },
   "outputs": [],
   "source": [
    "df.info()"
   ]
  },
  {
   "cell_type": "markdown",
   "metadata": {},
   "source": [
    "You can access a particular column (which python can automatically convert to an *iterable* when needed), by just giving the column name in square brackets.  Note that a single column is displayed slightly differently in Jupyter.  If you want multiple columns, instead of putting a string in square brackets, put a list of strings.  Let's find all the titles."
   ]
  },
  {
   "cell_type": "code",
   "execution_count": null,
   "metadata": {
    "collapsed": false
   },
   "outputs": [],
   "source": [
    "df['movie_title']"
   ]
  },
  {
   "cell_type": "markdown",
   "metadata": {},
   "source": [
    "Similarly to numpy, you can also *filter* and get only certains rows.  Comparison operators also generate a list of *True/False* values, which is used to get only the rows you want.  E.g. if you want to find the movie titles, imdb scores and number of users who voted the scores of all moving the scored higher than 9.0 on IMDB, you can do the following:"
   ]
  },
  {
   "cell_type": "code",
   "execution_count": null,
   "metadata": {
    "collapsed": false
   },
   "outputs": [],
   "source": [
    "df[['movie_title', 'imdb_score', 'num_voted_users']][df['imdb_score'] > 9.0]"
   ]
  },
  {
   "cell_type": "markdown",
   "metadata": {},
   "source": [
    "In the example above, we retrieved just 3 columns.  df[] is what we want to retrieve and the last (outer) [] is for the filter.\n",
    "\n",
    "In the example below, we retrieve all columns, so we don't need the first [], so the [] that is present is for the filter."
   ]
  },
  {
   "cell_type": "code",
   "execution_count": null,
   "metadata": {
    "collapsed": false
   },
   "outputs": [],
   "source": [
    "df[df['imdb_score'] > 9]"
   ]
  },
  {
   "cell_type": "markdown",
   "metadata": {},
   "source": [
    "You can have multiple conditions (just like in numpy) combined together with a logical *&*.  You can sort according to a column (or multiple columns).  You can return multiple columns when looking at a subset.\n",
    "\n",
    "E.g. let's find the name, year and IMDB score of the bad movies (<3.0 score) made after 2010."
   ]
  },
  {
   "cell_type": "code",
   "execution_count": null,
   "metadata": {
    "collapsed": false
   },
   "outputs": [],
   "source": [
    "df[['movie_title', 'title_year', 'imdb_score']][(df['imdb_score'] < 3.0) & (df['title_year'] >= 2010)].sort_values('imdb_score', ascending=[0])"
   ]
  },
  {
   "cell_type": "markdown",
   "metadata": {},
   "source": [
    "It is also possible to change your data or add to it.  Similarly to how you can perform calculations on a numpy array, you can also do it in Pandas.  Let's calculate the profitibility of each movie (as a new column) that is the gross / budget.  This can make it easier to compare movies to each other.\n",
    "\n",
    "We can also calculate the nett profit as the gross - budget.\n",
    "\n",
    "Lastly we return the new values as a table."
   ]
  },
  {
   "cell_type": "code",
   "execution_count": null,
   "metadata": {
    "collapsed": false
   },
   "outputs": [],
   "source": [
    "df['profitibility'] = df['gross'] / df['budget']\n",
    "df['nett'] = df['gross'] - df['budget']\n",
    "df[['movie_title', 'profitibility', 'nett', 'gross', 'budget']]"
   ]
  },
  {
   "cell_type": "markdown",
   "metadata": {},
   "source": [
    "Above we used the values in each row to perform the calculation.  Just like with numpy, you can also use that don't come from the table.  E.g. to convert the score to a percentage:"
   ]
  },
  {
   "cell_type": "code",
   "execution_count": null,
   "metadata": {
    "collapsed": false
   },
   "outputs": [],
   "source": [
    "df['imdb_score'] * 10"
   ]
  },
  {
   "cell_type": "markdown",
   "metadata": {},
   "source": [
    "Now that you can get data out of a Pandas dataframe, you should be able to work with it and generate the type of charts you've already worked with.\n",
    "\n",
    "E.g. Let's look at a histogram of all Sci-Fi movie ratings.  We can use **df['genres'].str.contains('Sci-Fi')** to filter to row that contains **Sci-Fi** in the genres column."
   ]
  },
  {
   "cell_type": "code",
   "execution_count": null,
   "metadata": {
    "collapsed": false
   },
   "outputs": [],
   "source": [
    "plt.hist(df['imdb_score'][df['genres'].str.contains('Thriller')], 20)\n",
    "plt.show()"
   ]
  },
  {
   "cell_type": "markdown",
   "metadata": {},
   "source": [
    "#### Exercise\n",
    "Create 3 visualizations that compares the careers of Ridley Scott and Christopher Nolan.  How have their movies evolved over time?  Given the data, which director would you consider to be better?"
   ]
  },
  {
   "cell_type": "code",
   "execution_count": null,
   "metadata": {
    "collapsed": false
   },
   "outputs": [],
   "source": []
  },
  {
   "cell_type": "code",
   "execution_count": null,
   "metadata": {
    "collapsed": true
   },
   "outputs": [],
   "source": []
  },
  {
   "cell_type": "code",
   "execution_count": null,
   "metadata": {
    "collapsed": true
   },
   "outputs": [],
   "source": []
  }
 ],
 "metadata": {
  "kernelspec": {
   "display_name": "Python 3",
   "language": "python",
   "name": "python3"
  },
  "language_info": {
   "codemirror_mode": {
    "name": "ipython",
    "version": 3
   },
   "file_extension": ".py",
   "mimetype": "text/x-python",
   "name": "python",
   "nbconvert_exporter": "python",
   "pygments_lexer": "ipython3",
   "version": "3.6.0"
  }
 },
 "nbformat": 4,
 "nbformat_minor": 2
}
