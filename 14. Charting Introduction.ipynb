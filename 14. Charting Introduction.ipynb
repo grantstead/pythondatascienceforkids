{
 "cells": [
  {
   "cell_type": "markdown",
   "metadata": {},
   "source": [
    "![ContributION - An introduction to Python and Data Science](contribution.png)"
   ]
  },
  {
   "cell_type": "markdown",
   "metadata": {},
   "source": [
    "# Charting introduction\n",
    "In this chapter we're going to play around with various types of charts to see how they react when we change their parameters.\n",
    "\n",
    "Start by doing the usual setup for working with **matplotlib**.\n",
    "\n",
    "The following example are all taken from https://matplotlib.org/gallery.html.  We'll go over them and learn how they work.  You can then go back and look at other examples yourself in the future when the need arises."
   ]
  },
  {
   "cell_type": "code",
   "execution_count": null,
   "metadata": {
    "collapsed": true
   },
   "outputs": [],
   "source": [
    "# Set up matplotlib and use a nicer set of plot parameters\n",
    "%config InlineBackend.rc = {}\n",
    "import matplotlib\n",
    "import matplotlib.pyplot as plt\n",
    "%matplotlib inline\n",
    "import numpy as np"
   ]
  },
  {
   "cell_type": "markdown",
   "metadata": {},
   "source": [
    "## Bar charts\n",
    "\n",
    "See https://matplotlib.org/examples/lines_bars_and_markers/barh_demo.html\n",
    "\n",
    "Bar charts are a type of chart that allows us to compare different things next to each other.\n",
    "\n",
    "In the example below, we compare different people by seeing how fast they want to go.\n",
    "\n",
    "Let's start by getting some sample data.  This is random, but typically you'll have better data when doing real charting.  For 5 people, we get the performance (how fast they want to go today) and a error (the amount that it might change by)."
   ]
  },
  {
   "cell_type": "code",
   "execution_count": null,
   "metadata": {
    "collapsed": false
   },
   "outputs": [],
   "source": [
    "people = ('Tom', 'Dick', 'Harry', 'Slim', 'Jim')\n",
    "performance = 3 + 10 * np.random.rand(len(people))\n",
    "error = np.random.rand(len(people))"
   ]
  },
  {
   "cell_type": "markdown",
   "metadata": {},
   "source": [
    "We also need to determine where we're going to place the bar.  These will be horizontal bars, so we need to know how high up the y-axis the position of the bar should be.  In our case we just want them on the same scale, so a range of numbers will do."
   ]
  },
  {
   "cell_type": "code",
   "execution_count": null,
   "metadata": {
    "collapsed": false
   },
   "outputs": [],
   "source": [
    "y_pos = np.arange(len(people))\n",
    "x_pos = np.arange(len(people))"
   ]
  },
  {
   "cell_type": "markdown",
   "metadata": {},
   "source": [
    "Next we create a single subplot (a chart area where we'll draw the plot).  The **ax** here is what we will be changing to know what to draw.\n",
    "\n",
    "Once we have the **ax**is, then we can tell it to draw a horizontal bar chart (using **barh**).\n",
    "\n",
    "We tell it where to set the tick marks and what labels to put there.\n",
    "\n",
    "We tell it to invert the y-axis (so it goes top down rather than bottom up.\n",
    "\n",
    "We set the x-axis label (adding the word *Performance*.\n",
    "\n",
    "We set the title to the whole chart area.\n",
    "\n",
    "Lastly we show the whole plot.\n",
    "\n",
    "#### Note that in Jupyter, if you don't group the first and last lines, then the chart is not drawn correctly, as the first line already tries to draw the chart."
   ]
  },
  {
   "cell_type": "code",
   "execution_count": null,
   "metadata": {
    "collapsed": false
   },
   "outputs": [],
   "source": [
    "fig, ax = plt.subplots()\n",
    "\n",
    "ax.barh(y_pos, performance, xerr=error, align='center', color='green', ecolor='black')\n",
    "ax.set_yticks(y_pos)\n",
    "ax.set_yticklabels(people)\n",
    "ax.invert_yaxis()  # labels read top-to-bottom\n",
    "ax.set_xlabel('Performance')\n",
    "ax.set_title('How fast do you want to go today?')\n",
    "\n",
    "plt.show()"
   ]
  },
  {
   "cell_type": "markdown",
   "metadata": {},
   "source": [
    "#### Can you change the example above, to use the same data, but draw a vertical bar chart (columns)?"
   ]
  },
  {
   "cell_type": "code",
   "execution_count": null,
   "metadata": {
    "collapsed": true
   },
   "outputs": [],
   "source": []
  },
  {
   "cell_type": "markdown",
   "metadata": {},
   "source": [
    "## Stacked bar chart\n",
    "\n",
    "See https://matplotlib.org/examples/pylab_examples/bar_stacked.html\n",
    "\n",
    "A stacked bar chart allows us to also compare different things next to each other, but we can break it down in some way.\n",
    "\n",
    "In the example below, we compare the scopes of different groups, but we break it down into the scores for males and females.\n",
    "\n",
    "Let's start by getting the men and woman mean scores for each of the (5) groups along with the standard deviation (as an error bar)."
   ]
  },
  {
   "cell_type": "code",
   "execution_count": null,
   "metadata": {
    "collapsed": false
   },
   "outputs": [],
   "source": [
    "groups = ('G1', 'G2', 'G3', 'G4', 'G5')\n",
    "menMeans = [20, 35, 30, 35, 27]\n",
    "womenMeans = [25, 32, 34, 20, 25]\n",
    "menStd = (2, 3, 4, 1, 2)\n",
    "womenStd = (3, 5, 2, 3, 3)"
   ]
  },
  {
   "cell_type": "markdown",
   "metadata": {},
   "source": [
    "Next, get some fixed data like the number of groups, the width of the bars and the position of the bars (on the x-axis)."
   ]
  },
  {
   "cell_type": "code",
   "execution_count": null,
   "metadata": {
    "collapsed": true
   },
   "outputs": [],
   "source": [
    "N = len(groups)\n",
    "ind = np.arange(N)    # the x locations for the groups\n",
    "width = 0.35       # the width of the bars: can also be len(x) sequence"
   ]
  },
  {
   "cell_type": "markdown",
   "metadata": {},
   "source": [
    "In the example below, we don't go through the effort of getting a subplot, but rather just use a higher level pyplot method instead.\n",
    "\n",
    "As with subplot(), we again group the creation of the chart with the show() function call so that Jupyter doesn't draw the chart too soon.\n",
    "\n",
    "We start by adding 2 bar charts, p1 and p2.  For p2, we however give it a **bottom** parameter (an numpy array), telling it how high up it should start drawing the box.  We basically put the Woman boxes on top of menMeans.\n",
    "\n",
    "Next we add labels, titles, ticks.\n",
    "\n",
    "We also add a legend, telling it what to name them and which bar char to use to draw the legend.\n",
    "\n",
    "Lastly we show the chart."
   ]
  },
  {
   "cell_type": "code",
   "execution_count": null,
   "metadata": {
    "collapsed": false
   },
   "outputs": [],
   "source": [
    "p1 = plt.bar(ind, menMeans, width, color='#d62728', yerr=menStd)\n",
    "p2 = plt.bar(ind, womenMeans, width, bottom=menMeans, yerr=womenStd)\n",
    "\n",
    "plt.ylabel('Scores')\n",
    "plt.title('Scores by group and gender')\n",
    "plt.xticks(ind, ('G1', 'G2', 'G3', 'G4', 'G5'))\n",
    "plt.yticks(np.arange(0, 81, 10))\n",
    "plt.legend((p1[0], p2[0]), ('Men', 'Women'))\n",
    "\n",
    "plt.show()"
   ]
  },
  {
   "cell_type": "markdown",
   "metadata": {},
   "source": [
    "#### Can you change the example above, and show the men and figures next to each other, keeping the groups together."
   ]
  },
  {
   "cell_type": "code",
   "execution_count": null,
   "metadata": {
    "collapsed": true
   },
   "outputs": [],
   "source": []
  },
  {
   "cell_type": "markdown",
   "metadata": {},
   "source": [
    "#### Next try to change it into groups showing 5 groups of men on the left and 5 groups of women on the right."
   ]
  },
  {
   "cell_type": "code",
   "execution_count": null,
   "metadata": {
    "collapsed": false
   },
   "outputs": [],
   "source": []
  },
  {
   "cell_type": "markdown",
   "metadata": {},
   "source": [
    "## Pie charts\n",
    "\n",
    "See https://matplotlib.org/examples/pie_and_polar_charts/pie_demo_features.html\n",
    "\n",
    "A Pie chart is very similar to a bar chart, but doesn't show values side by side, but rather as slices of a pie.  This makes it easy to see how much of the total a value takes up.\n",
    "\n",
    "In the example below, we can see Frogs, Hogs, Docs and Logs compare to each other.\n",
    "\n",
    "As usual, we ensure we have some data to work with.  The **explode** here says by how much that one slice should be pulled out of the pie."
   ]
  },
  {
   "cell_type": "code",
   "execution_count": null,
   "metadata": {
    "collapsed": true
   },
   "outputs": [],
   "source": [
    "# Pie chart, where the slices will be ordered and plotted counter-clockwise:\n",
    "labels = 'Frogs', 'Hogs', 'Dogs', 'Logs'\n",
    "sizes = [15, 30, 45, 110]\n",
    "explode = (0, 0.1, 0, 0)  # only \"explode\" the 2nd slice (i.e. 'Hogs')"
   ]
  },
  {
   "cell_type": "markdown",
   "metadata": {},
   "source": [
    "Next we again use subplots to create the axis to draw on.  Again it is in the same cell as the show() function call.\n",
    "\n",
    "We use the pie() function to tell it what to draw, include where to start drawing (how far along a clock face, and if we should show shadows)."
   ]
  },
  {
   "cell_type": "code",
   "execution_count": null,
   "metadata": {
    "collapsed": false
   },
   "outputs": [],
   "source": [
    "fig1, ax1 = plt.subplots()\n",
    "\n",
    "ax1.pie(sizes, explode=explode, labels=labels, autopct='%1.1f%%', shadow=True, startangle=70)\n",
    "ax1.axis('equal')  # Equal aspect ratio ensures that pie is drawn as a circle.\n",
    "\n",
    "plt.show()"
   ]
  },
  {
   "cell_type": "markdown",
   "metadata": {},
   "source": [
    "## Scatter chart\n",
    "\n",
    "See https://matplotlib.org/examples/shapes_and_collections/scatter_demo.html\n",
    "\n",
    "A Scatter chart is used to show how different elements compare to each other on multiple dimentions.  You might simply have a dot somewhere on the two axises.  You can give different dots different sizes to indicate something else.  You can also use color to distinguish the dots even further.\n",
    "\n",
    "The example below is random in all aspects.\n",
    "\n",
    "As usual, let's get some data, let's say 100 dots."
   ]
  },
  {
   "cell_type": "code",
   "execution_count": null,
   "metadata": {
    "collapsed": true
   },
   "outputs": [],
   "source": [
    "N = 100\n",
    "x = np.random.rand(N)\n",
    "y = np.random.rand(N)\n",
    "colors = np.random.rand(N)\n",
    "area = np.pi * (15 * np.random.rand(N))**2  # 0 to 15 point radii"
   ]
  },
  {
   "cell_type": "markdown",
   "metadata": {},
   "source": [
    "Next we call pyplot's scatter() function passing in the different data elements we know about."
   ]
  },
  {
   "cell_type": "code",
   "execution_count": null,
   "metadata": {
    "collapsed": false
   },
   "outputs": [],
   "source": [
    "plt.scatter(x, y, s=area, c=colors, alpha=1, edgecolors='green')\n",
    "plt.show()"
   ]
  },
  {
   "cell_type": "markdown",
   "metadata": {},
   "source": [
    "## Histograms\n",
    "\n",
    "See https://matplotlib.org/examples/statistics/histogram_demo_features.html (at least part of it)\n",
    "\n",
    "A histogram shows what the distribution of values are on a scale (indicating how many of those values fall within a certain interval).\n",
    "\n",
    "Let's get some random data, given a mean and standard deviation.  The **x** numpy array contains 437 values."
   ]
  },
  {
   "cell_type": "code",
   "execution_count": null,
   "metadata": {
    "collapsed": true
   },
   "outputs": [],
   "source": [
    "mu = 100  # mean of distribution\n",
    "sigma = 5  # standard deviation of distribution\n",
    "x = mu + sigma * np.random.randn(437)"
   ]
  },
  {
   "cell_type": "markdown",
   "metadata": {},
   "source": [
    "We want to show how those 437 values are distributed.  This means we have to group them together.  Pyplot calls this group a **bin** and allows you to say how many such **bins** you want.  Let's say we want 20 bins."
   ]
  },
  {
   "cell_type": "code",
   "execution_count": null,
   "metadata": {
    "collapsed": true
   },
   "outputs": [],
   "source": [
    "num_bins = 20"
   ]
  },
  {
   "cell_type": "markdown",
   "metadata": {},
   "source": [
    "Lastly we have to create the actual chart.  Start by making a subplot.\n",
    "\n",
    "Use the hist() function to create the actual histogram.  Note that this function also gives back some variables.\n",
    "\n",
    "Lastly we adjust the layout and show the chart."
   ]
  },
  {
   "cell_type": "code",
   "execution_count": null,
   "metadata": {
    "collapsed": false
   },
   "outputs": [],
   "source": [
    "fig, ax = plt.subplots()\n",
    "\n",
    "n, bins, patches = ax.hist(x, num_bins, normed=1)\n",
    "\n",
    "fig.tight_layout()\n",
    "plt.show()"
   ]
  },
  {
   "cell_type": "markdown",
   "metadata": {},
   "source": [
    "The values returned by the *hist* method represent the data of the histogram.\n",
    "\n",
    "*bins* indicates the x-axis value of where each bin is.  The first bin is starts at bins[0] and ends at bins[1].  The second bin starts at bins[1] and ends at bins[2].  Etc. "
   ]
  },
  {
   "cell_type": "code",
   "execution_count": null,
   "metadata": {
    "collapsed": false
   },
   "outputs": [],
   "source": [
    "bins"
   ]
  },
  {
   "cell_type": "markdown",
   "metadata": {},
   "source": [
    "Similarly, *n* indicates the y-axis value (height) of each bin."
   ]
  },
  {
   "cell_type": "code",
   "execution_count": null,
   "metadata": {
    "collapsed": false
   },
   "outputs": [],
   "source": [
    "n"
   ]
  },
  {
   "cell_type": "markdown",
   "metadata": {},
   "source": [
    "## Line charts\n",
    "\n",
    "See https://matplotlib.org/examples/pylab_examples/load_converter.html (it does a bit more, but let's focus on the line drawing).\n",
    "\n",
    "A line chart shows the evolution of something over some measurement, typically time.  It is quite comparable to a bar chart.  It is however easier to see different lines compared to each other.\n",
    "\n",
    "The example below shows the closing stock prices of a stock over time.  X-axis contains dates.  Y-axis contains the price of the stock (how much that stock is worth).\n",
    "\n",
    "In this example we use cbook to read some data from a file (that comes with Jupyter be default).  Let's get the data first."
   ]
  },
  {
   "cell_type": "code",
   "execution_count": null,
   "metadata": {
    "collapsed": false
   },
   "outputs": [],
   "source": [
    "import matplotlib.cbook as cbook\n",
    "datafile = cbook.get_sample_data('msft.csv', asfileobj=False)\n",
    "print('loading', datafile)"
   ]
  },
  {
   "cell_type": "markdown",
   "metadata": {},
   "source": [
    "Next we use numpy's loadtxt function to convert the data we just read into arrays."
   ]
  },
  {
   "cell_type": "code",
   "execution_count": null,
   "metadata": {
    "collapsed": true
   },
   "outputs": [],
   "source": [
    "import matplotlib.dates as mdates\n",
    "from matplotlib.dates import bytespdate2num\n",
    "dates, closes = np.loadtxt(datafile, delimiter=',',\n",
    "                           converters={0: bytespdate2num('%d-%b-%y')},\n",
    "                           skiprows=1, usecols=(0, 4), unpack=True)"
   ]
  },
  {
   "cell_type": "markdown",
   "metadata": {},
   "source": [
    "Next we create the figure itself (with the data we already obtained).\n",
    "\n",
    "In this example we're create a figure first and then adding a subplot to it (different to how we did it before).\n",
    "\n",
    "Next we tell it to plot the dates, giving the dates and the closing figures we read from the file.  The minus sign tells it to draw a line.  Other values are also possible, e.g. a plus sign, or the ^ sign.\n",
    "\n",
    "Lastly we tell the figure to format the dates and then we draw the chart."
   ]
  },
  {
   "cell_type": "code",
   "execution_count": null,
   "metadata": {
    "collapsed": false
   },
   "outputs": [],
   "source": [
    "fig = plt.figure()\n",
    "ax = fig.add_subplot(111)\n",
    "ax.plot_date(dates, closes, '-')\n",
    "fig.autofmt_xdate()\n",
    "plt.show()"
   ]
  },
  {
   "cell_type": "markdown",
   "metadata": {},
   "source": [
    "#### Change the chart above and add the high and low values as well (as a line chart).  \n",
    "\n",
    "You might have to read up on numpy's loadtxt function.  \n",
    "\n",
    "Also remember how we added a second bar chart for our stacked chart example."
   ]
  },
  {
   "cell_type": "code",
   "execution_count": null,
   "metadata": {
    "collapsed": true
   },
   "outputs": [],
   "source": []
  }
 ],
 "metadata": {
  "kernelspec": {
   "display_name": "Python 3",
   "language": "python",
   "name": "python3"
  },
  "language_info": {
   "codemirror_mode": {
    "name": "ipython",
    "version": 3
   },
   "file_extension": ".py",
   "mimetype": "text/x-python",
   "name": "python",
   "nbconvert_exporter": "python",
   "pygments_lexer": "ipython3",
   "version": "3.6.0"
  }
 },
 "nbformat": 4,
 "nbformat_minor": 2
}
