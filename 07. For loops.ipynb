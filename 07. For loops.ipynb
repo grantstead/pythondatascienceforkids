{
 "cells": [
  {
   "cell_type": "markdown",
   "metadata": {},
   "source": [
    "![ContributION - An introduction to Python and Data Science](contribution.png)"
   ]
  },
  {
   "cell_type": "markdown",
   "metadata": {},
   "source": [
    "# For Loops\n",
    "**For** is a statement similar to **while**.  It causes a block of code to be repeated several time.  Instead of using a condition, it *iterates* over a list (or iterable).\n",
    "\n",
    "Let's say you want to print out everything in a list.  We previously saw how to do it using a **while** loop."
   ]
  },
  {
   "cell_type": "code",
   "execution_count": null,
   "metadata": {
    "collapsed": false
   },
   "outputs": [],
   "source": [
    "a = [1, 4, 7, 3, 9, 2, 4, 6, 5]\n",
    "i = 0\n",
    "while i < len(a):\n",
    "    n = a[ i ]\n",
    "    print(\"i =\", i, \"   n  =  a[ i ]  =  a[\", i, \"]  = \", a[i])\n",
    "    i = i + 1"
   ]
  },
  {
   "cell_type": "markdown",
   "metadata": {},
   "source": [
    "With a **for** statement, it becomes even easier:"
   ]
  },
  {
   "cell_type": "code",
   "execution_count": null,
   "metadata": {
    "collapsed": false
   },
   "outputs": [],
   "source": [
    "for n in a:\n",
    "    print(n)"
   ]
  },
  {
   "cell_type": "code",
   "execution_count": null,
   "metadata": {
    "collapsed": false
   },
   "outputs": [],
   "source": [
    "for n in a:\n",
    "    print(n)"
   ]
  },
  {
   "cell_type": "markdown",
   "metadata": {},
   "source": [
    "Or just a slice of it, counting backwards."
   ]
  },
  {
   "cell_type": "code",
   "execution_count": null,
   "metadata": {
    "collapsed": false
   },
   "outputs": [],
   "source": [
    "b = a[6::-1]\n",
    "for n in b:\n",
    "    print(n)"
   ]
  },
  {
   "cell_type": "markdown",
   "metadata": {},
   "source": [
    "We can also iterate over a list containing lists."
   ]
  },
  {
   "cell_type": "code",
   "execution_count": null,
   "metadata": {
    "collapsed": false
   },
   "outputs": [],
   "source": [
    "t = [[1,2], [2, 3], [5, 6], [4,7], [7,8]]\n",
    "for location in t:\n",
    "    print(location)\n",
    "    x, y = location\n",
    "    print(\"x=\", x, \"    y=\", y)"
   ]
  },
  {
   "cell_type": "markdown",
   "metadata": {},
   "source": [
    "In the example above we have **x, y = location**.  Here python knows to take the first value in location and assign it to x and take the second value in location and assign it to y.\n",
    "\n",
    "We can do the same directly in the for statement, removing the need for the location variable."
   ]
  },
  {
   "cell_type": "code",
   "execution_count": null,
   "metadata": {
    "collapsed": false
   },
   "outputs": [],
   "source": [
    "t = [[1,2], [2, 3], [5, 6]]\n",
    "for x,y in t:\n",
    "    print(\"x=\", x, \"    y=\", y)"
   ]
  },
  {
   "cell_type": "markdown",
   "metadata": {},
   "source": [
    "A **for** statement basically has the list to *iterate* over (**a** in our first example above) and a *variable* to assign the value to (**n** in our first example above).  It also has the keyword **in** to indicate which part is which.  Next it has a block of code to perform (after a colon).  It keeps going until it has *iterated* over the full list, or until **break** is called.  You can also use **continue** to skip the rest of the block.  Just like **while**, it can also have an **else** block, which is called when **break** isn't called.  **For** statements can also be written on one line (like **if** statements)."
   ]
  },
  {
   "cell_type": "code",
   "execution_count": null,
   "metadata": {
    "collapsed": false
   },
   "outputs": [],
   "source": [
    "for n in a:\n",
    "    #if n == 6:\n",
    "    #    break\n",
    "    if n in [4, 6]:\n",
    "        continue\n",
    "    print(n)\n",
    "else:\n",
    "    print(\"Did not break out of the for loop\")"
   ]
  },
  {
   "cell_type": "markdown",
   "metadata": {},
   "source": [
    "You don't need to use the variable that is assigned a value.\n",
    "\n",
    "#### How would you print your name 10 times?"
   ]
  },
  {
   "cell_type": "code",
   "execution_count": null,
   "metadata": {
    "collapsed": false
   },
   "outputs": [],
   "source": [
    "name_list = [1,2,3,4,5,6,7,8,9,10]\n",
    "for num in name_list:\n",
    "    print(\"Hello\")"
   ]
  },
  {
   "cell_type": "markdown",
   "metadata": {},
   "source": [
    "A useful function to know is **range([start,] stop [,step])**.  It creates an *iterable* of values from *start* to *stop* with a given *step* (very similar to how list slicing works)."
   ]
  },
  {
   "cell_type": "code",
   "execution_count": null,
   "metadata": {
    "collapsed": false
   },
   "outputs": [],
   "source": [
    "for n in range(30, 10, -3):\n",
    "    print(n)"
   ]
  },
  {
   "cell_type": "markdown",
   "metadata": {},
   "source": [
    "**range** doesn't return a list, but rather a special *range* variable we can *iterate* over."
   ]
  },
  {
   "cell_type": "code",
   "execution_count": null,
   "metadata": {
    "collapsed": false
   },
   "outputs": [],
   "source": [
    "type(range(10, 30, 3))"
   ]
  },
  {
   "cell_type": "markdown",
   "metadata": {},
   "source": [
    "We can however convert it to a *list* if we want to."
   ]
  },
  {
   "cell_type": "code",
   "execution_count": null,
   "metadata": {
    "collapsed": false
   },
   "outputs": [],
   "source": [
    "type(list(range(10, 30, 3)))"
   ]
  },
  {
   "cell_type": "markdown",
   "metadata": {},
   "source": [
    "The reason we have to call list() is because **range** doesn't create a list, but a a type of *iterable*, meaning something that gives values when asked for.  It has certain memory/performance benefits, but needs a bit more attention.  With the **for** loop above, you can see that **for** knows how to deal with *iterables*."
   ]
  },
  {
   "cell_type": "markdown",
   "metadata": {},
   "source": [
    "Let's copy your planets variable from chapter 4 (dictionaries)"
   ]
  },
  {
   "cell_type": "code",
   "execution_count": null,
   "metadata": {
    "collapsed": false
   },
   "outputs": [],
   "source": [
    "planets = [{'name':'Mercury', 'position':1, 'moons':0,  'rings':False},\n",
    "           {'name':'Venus',   'position':2, 'moons':0,  'rings':False},\n",
    "           {'name':'Earth',   'position':3, 'moons':1,  'rings':False},\n",
    "           {'name':'Mars',    'position':4, 'moons':2,  'rings':False},\n",
    "           {'name':'Jupiter', 'position':5, 'moons':67, 'rings':True},\n",
    "           {'name':'Saturn',  'position':6, 'moons':62, 'rings':True},\n",
    "           {'name':'Uranus',  'position':7, 'moons':27, 'rings':True},\n",
    "           {'name':'Neptune', 'position':8, 'moons':14, 'rings':True}]"
   ]
  },
  {
   "cell_type": "markdown",
   "metadata": {},
   "source": [
    "#### Print the names and number of moons for all planets that have moons but not rings."
   ]
  },
  {
   "cell_type": "code",
   "execution_count": null,
   "metadata": {
    "collapsed": true
   },
   "outputs": [],
   "source": []
  },
  {
   "cell_type": "code",
   "execution_count": null,
   "metadata": {
    "collapsed": true
   },
   "outputs": [],
   "source": []
  },
  {
   "cell_type": "markdown",
   "metadata": {},
   "source": [
    "#### Can you now re-write your calculator to calculate the median?"
   ]
  },
  {
   "cell_type": "code",
   "execution_count": null,
   "metadata": {
    "collapsed": true
   },
   "outputs": [],
   "source": []
  },
  {
   "cell_type": "code",
   "execution_count": null,
   "metadata": {
    "collapsed": true
   },
   "outputs": [],
   "source": []
  },
  {
   "cell_type": "code",
   "execution_count": null,
   "metadata": {
    "collapsed": true
   },
   "outputs": [],
   "source": []
  },
  {
   "cell_type": "markdown",
   "metadata": {},
   "source": [
    "## Nested loops\n",
    "It is possible to have a loop within a loop, just like you can have an **if** within an **if**.  Consider the following example:"
   ]
  },
  {
   "cell_type": "code",
   "execution_count": null,
   "metadata": {
    "collapsed": false
   },
   "outputs": [],
   "source": [
    "output = ''\n",
    "for y in range(-10, 10):\n",
    "    for x in range(-10, 10):\n",
    "        # Add two characters to our output (as two looks nicer than one)\n",
    "        output += '**' if x > -6 and x < 4 and y > -6 and y < 6 else '..'\n",
    "    # Start the output on a new line again\n",
    "    output += '\\n'\n",
    "# Print the final output\n",
    "print(output)"
   ]
  },
  {
   "cell_type": "markdown",
   "metadata": {},
   "source": [
    "The example starts with y = -10.  It then goes over all values for x (from -10 to 10) and calculates if x is within a ceretain range and y is within a certain range and if yes, adds two astrisks to output, otherwise adds spaces.  At the end of the x (at the end of the line), it puts a line break (\\\\n), y increases by one, and x starts again at -10 (and goes to to 10 before y increases again.\n",
    "\n",
    "The end result is it prints a rectangle.\n",
    "\n",
    "#### Can you change the place where the rectangle is printed?"
   ]
  },
  {
   "cell_type": "code",
   "execution_count": null,
   "metadata": {
    "collapsed": true
   },
   "outputs": [],
   "source": []
  },
  {
   "cell_type": "markdown",
   "metadata": {},
   "source": [
    "#### Can you make it print a crude circle instead of a square?"
   ]
  },
  {
   "cell_type": "code",
   "execution_count": null,
   "metadata": {
    "collapsed": false
   },
   "outputs": [],
   "source": []
  },
  {
   "cell_type": "markdown",
   "metadata": {},
   "source": [
    "#### Would you use *while* statement or a *for* statements in the following cases?\n",
    "1. Print all even numbers less 50?\n",
    "2. Print names of planets with rings?\n",
    "3. Print names of 3 first planets?\n",
    "4. Test if someone can guess your number?  (The guessing game)\n",
    "5. Find the maximum in a list of lists?\n",
    "6. Calculate all prime numbers less than 100?\n",
    "7. Calculate the first 100 prime numbers?"
   ]
  },
  {
   "cell_type": "markdown",
   "metadata": {},
   "source": [
    "#### Answers\n",
    "1.\n",
    "\n",
    "2.\n",
    "\n",
    "3.\n",
    "\n",
    "4.\n",
    "\n",
    "5.\n",
    "\n",
    "6.\n",
    "\n",
    "7."
   ]
  }
 ],
 "metadata": {
  "kernelspec": {
   "display_name": "Python 3",
   "language": "python",
   "name": "python3"
  },
  "language_info": {
   "codemirror_mode": {
    "name": "ipython",
    "version": 3
   },
   "file_extension": ".py",
   "mimetype": "text/x-python",
   "name": "python",
   "nbconvert_exporter": "python",
   "pygments_lexer": "ipython3",
   "version": "3.6.0"
  }
 },
 "nbformat": 4,
 "nbformat_minor": 2
}
