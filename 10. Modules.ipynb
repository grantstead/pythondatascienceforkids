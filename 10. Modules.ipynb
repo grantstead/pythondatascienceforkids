{
 "cells": [
  {
   "cell_type": "markdown",
   "metadata": {},
   "source": [
    "![ContributION - An introduction to Python and Data Science](contribution.png)"
   ]
  },
  {
   "cell_type": "markdown",
   "metadata": {},
   "source": [
    "# Modules\n",
    "**Modules** are ways for us to structure our code a bit better.  We already previously saw that you can create a function to re-use code, but what happens if you need that function in multiple notebooks?  Do you have to re-create the function in each notebook where you want to use it...?  That's only somewhat re-usable.  We can do better!\n",
    "\n",
    "Python comes with some built-in functionality, but there is a lot more available in the **modules** that come with Python, or that come as 3rd party libraries.  We won't have time to look at all of them, but let's at least understand the idea behind them.\n",
    "\n",
    "Unlike Jupyter notebooks, much of Python is located in \\*.py files.  These files are typically part of the Python installation.  You can however also write your own \\*.py files and re-use them.\n",
    "\n",
    "To use them, you have to *import* them using the **import** keyword.  The statement below imports the *math* module."
   ]
  },
  {
   "cell_type": "code",
   "execution_count": null,
   "metadata": {
    "collapsed": true
   },
   "outputs": [],
   "source": [
    "import math"
   ]
  },
  {
   "cell_type": "markdown",
   "metadata": {},
   "source": [
    "Now that math is imported, we can use it (and learn more about it)."
   ]
  },
  {
   "cell_type": "code",
   "execution_count": null,
   "metadata": {
    "collapsed": false
   },
   "outputs": [],
   "source": [
    "help(math)"
   ]
  },
  {
   "cell_type": "markdown",
   "metadata": {},
   "source": [
    "If you try to print the value of pi from the math module, you need to tell it to use the math module.  You do this by putting **math.** before **pi**"
   ]
  },
  {
   "cell_type": "code",
   "execution_count": null,
   "metadata": {
    "collapsed": false
   },
   "outputs": [],
   "source": [
    "math.pi"
   ]
  },
  {
   "cell_type": "markdown",
   "metadata": {},
   "source": [
    "You also have to use **math.** for calling functions."
   ]
  },
  {
   "cell_type": "code",
   "execution_count": null,
   "metadata": {
    "collapsed": false
   },
   "outputs": [],
   "source": [
    "math.sqrt(144)"
   ]
  },
  {
   "cell_type": "code",
   "execution_count": null,
   "metadata": {
    "collapsed": false
   },
   "outputs": [],
   "source": [
    "lst = [1.1, 2.2, 3.3]\n",
    "math.fsum(lst)"
   ]
  },
  {
   "cell_type": "markdown",
   "metadata": {},
   "source": [
    "Let's delete the *math* module from our current scope, so we can re-start."
   ]
  },
  {
   "cell_type": "code",
   "execution_count": null,
   "metadata": {
    "collapsed": false
   },
   "outputs": [],
   "source": [
    "del math"
   ]
  },
  {
   "cell_type": "markdown",
   "metadata": {},
   "source": [
    "It is possible to import only part of a module, by specifing what you want to import.  With the statement below, our Python scope will know what **pi** is, but still not know with **math** is.  Here we use **from** <module> **import** <part> to know what to import from where.  The thing we import become known in our local scope, meaning we can access it directly."
   ]
  },
  {
   "cell_type": "code",
   "execution_count": null,
   "metadata": {
    "collapsed": true
   },
   "outputs": [],
   "source": [
    "from math import pi"
   ]
  },
  {
   "cell_type": "code",
   "execution_count": null,
   "metadata": {
    "collapsed": false
   },
   "outputs": [],
   "source": [
    "pi"
   ]
  },
  {
   "cell_type": "markdown",
   "metadata": {},
   "source": [
    "#### Why does the following statments call fail?"
   ]
  },
  {
   "cell_type": "code",
   "execution_count": null,
   "metadata": {
    "collapsed": false
   },
   "outputs": [],
   "source": [
    "math.pi"
   ]
  },
  {
   "cell_type": "code",
   "execution_count": null,
   "metadata": {
    "collapsed": false
   },
   "outputs": [],
   "source": [
    "fsum(lst)"
   ]
  },
  {
   "cell_type": "markdown",
   "metadata": {},
   "source": [
    "When importing a module, you can also tell it to rename whatever you are importing by using the **as** keyword."
   ]
  },
  {
   "cell_type": "code",
   "execution_count": null,
   "metadata": {
    "collapsed": true
   },
   "outputs": [],
   "source": [
    "from math import fsum as floating_sum"
   ]
  },
  {
   "cell_type": "code",
   "execution_count": null,
   "metadata": {
    "collapsed": false
   },
   "outputs": [],
   "source": [
    "floating_sum(lst)"
   ]
  },
  {
   "cell_type": "code",
   "execution_count": null,
   "metadata": {
    "collapsed": false
   },
   "outputs": [],
   "source": [
    "fsum(lst)"
   ]
  },
  {
   "cell_type": "markdown",
   "metadata": {},
   "source": [
    "## Creating your own module\n",
    "Next, let's create our own module to help us deal with planets.  We'll put our dictionary of planets in the module (as a variable) and a few functions to help find out more about the planets.\n",
    "\n",
    "When creating the file, it isn't that easy to *run* it.  Not as easy as in a Jupyter Notebook in any case."
   ]
  },
  {
   "cell_type": "markdown",
   "metadata": {},
   "source": [
    "#### Create a file in your *documents* folder (where your Jupyter Notebooks are saved) and call it planets.py.\n",
    "#### Copy your dictionary of planets to this file (call it *planets*).\n",
    "#### Create a function to return only the planets that have rings.  \n",
    "Your function could look something like this.  Note that here p['rings'] is a boolean, which evaluates to True or False (depending on the value) just like a condition would."
   ]
  },
  {
   "cell_type": "code",
   "execution_count": null,
   "metadata": {
    "collapsed": true
   },
   "outputs": [],
   "source": [
    "def find_ringed_planets(planets):\n",
    "    \"\"\" Find all planets that have rings around them. \"\"\"\n",
    "    return filter(lambda p: p['rings'], planets)"
   ]
  },
  {
   "cell_type": "markdown",
   "metadata": {},
   "source": [
    "#### Create a function to return only the planets that have moons.\n",
    "It could look something like this:"
   ]
  },
  {
   "cell_type": "code",
   "execution_count": null,
   "metadata": {
    "collapsed": true
   },
   "outputs": [],
   "source": [
    "def find_mooned_planets(planets):\n",
    "    \"\"\" Find all planets that have rings around them. \"\"\"\n",
    "    return filter(lambda p: p['moons'] > 0, planets)"
   ]
  },
  {
   "cell_type": "markdown",
   "metadata": {},
   "source": [
    "#### Now, let's test that you did it correctly.  Each time you change your file, you should also re-run the **import planets** statement."
   ]
  },
  {
   "cell_type": "code",
   "execution_count": null,
   "metadata": {
    "collapsed": false
   },
   "outputs": [],
   "source": [
    "import planets"
   ]
  },
  {
   "cell_type": "code",
   "execution_count": null,
   "metadata": {
    "collapsed": false
   },
   "outputs": [],
   "source": [
    "assert len(list(planets.find_ringed_planets(planets.planets))) == 4, \"Did not find 4 planets with rings\""
   ]
  },
  {
   "cell_type": "code",
   "execution_count": null,
   "metadata": {
    "collapsed": false
   },
   "outputs": [],
   "source": [
    "assert len(list(planets.find_mooned_planets(planets.planets))) == 6, \"Did not find 6 planets with moons\""
   ]
  },
  {
   "cell_type": "markdown",
   "metadata": {},
   "source": [
    "### Runnning your file directly\n",
    "If you go to a *command prompt*, you can run your planets.py file directly, but doing to your documents directory and typing **python planets.py**.\n",
    "#### Does it do something?\n",
    "#### Can you make it do something (like print the names of all the planets) when you run it from the *command prompt*?\n",
    "Hint: At the end of your file you can add a print statement, that uses list comprehension (or map) to find the name for each planet and join then together separated by a comma.\n",
    "\n",
    "If you start a python interpreter from the *command prompt*, and you import planets, you should also see it print the list of planets.\n",
    "#### Start a python interpretor from the *command prompt* (by typing *python* and pressing *enter*).\n",
    "Its like you are in a Jupyter Notebook.  Anything you type will be executed when you press *enter*.\n",
    "#### Next import your module (with *import planets*).  You should see it print the names of the planets.\n",
    "This isn't always such a good thing.  There is however a way of knowing if you're importing your file or running it as a script.  You can add the follow **if** statement before you execute code in your file."
   ]
  },
  {
   "cell_type": "code",
   "execution_count": null,
   "metadata": {
    "collapsed": false
   },
   "outputs": [],
   "source": [
    "if __name__ == '__main__':\n",
    "    print(planets.planets)"
   ]
  },
  {
   "cell_type": "markdown",
   "metadata": {},
   "source": [
    "#### Now, re-import your module from the *python interpretor*.  Do you still see the names of the planets?\n",
    "When you *import* or run a script, the script is executed.  The statements that define variables, functions, etc. are run, and those variables or functions are created.  Other statements are also executed if they aren't protected by such an **if** statement.\n",
    "\n",
    "If you are providing a library, you need to think about what you want to make available to others (or yourself) for later use."
   ]
  },
  {
   "cell_type": "code",
   "execution_count": null,
   "metadata": {
    "collapsed": true
   },
   "outputs": [],
   "source": [
    "del planets"
   ]
  },
  {
   "cell_type": "markdown",
   "metadata": {},
   "source": [
    "## Jupyter Notebook import\n",
    "Jupyter Notebooks have a special command you can use to run another notebook.  This is similar to import.  Its less structred than creating your own \\*.py files, but can still be quite useful to know."
   ]
  },
  {
   "cell_type": "code",
   "execution_count": null,
   "metadata": {
    "collapsed": false
   },
   "outputs": [],
   "source": [
    "%run \"04. Collection data types - Dictionaries.ipynb\""
   ]
  },
  {
   "cell_type": "code",
   "execution_count": null,
   "metadata": {
    "collapsed": false
   },
   "outputs": [],
   "source": [
    "planets"
   ]
  },
  {
   "cell_type": "code",
   "execution_count": null,
   "metadata": {
    "collapsed": true
   },
   "outputs": [],
   "source": []
  }
 ],
 "metadata": {
  "kernelspec": {
   "display_name": "Python 3",
   "language": "python",
   "name": "python3"
  },
  "language_info": {
   "codemirror_mode": {
    "name": "ipython",
    "version": 3
   },
   "file_extension": ".py",
   "mimetype": "text/x-python",
   "name": "python",
   "nbconvert_exporter": "python",
   "pygments_lexer": "ipython3",
   "version": "3.6.0"
  }
 },
 "nbformat": 4,
 "nbformat_minor": 2
}
