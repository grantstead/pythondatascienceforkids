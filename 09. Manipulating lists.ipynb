{
 "cells": [
  {
   "cell_type": "markdown",
   "metadata": {},
   "source": [
    "![ContributION - An introduction to Python and Data Science](contribution.png)"
   ]
  },
  {
   "cell_type": "markdown",
   "metadata": {},
   "source": [
    "# Manipulating lists\n",
    "Python often uses lists.  Knowing how to manipulate them a bit easier can be very useful.\n",
    "## List comprehension\n",
    "**List comprehension** is a very concise way of creating lists (usually from an existing list or iterable).  Let's say you have a list of numbers and you need to calculate each one's square.  This is one way of doing it:"
   ]
  },
  {
   "cell_type": "code",
   "execution_count": null,
   "metadata": {
    "collapsed": false
   },
   "outputs": [],
   "source": [
    "lst = [1, 2, 3, 4, 5, 6, 7, 8, 9]\n",
    "squares = []\n",
    "power_of = 2\n",
    "for i in lst:\n",
    "    squares.append(i ** power_of)\n",
    "print(squares)"
   ]
  },
  {
   "cell_type": "markdown",
   "metadata": {},
   "source": [
    "In the example above, we create a new list, *squares*, and we keep adding to the the result of the calculation (i \\*\\* 2).  We need to *iterate* over the list and add the result for each *i*.  We needed several lines of code for this.\n",
    "\n",
    "Now consider the following way of doing it using **list comprehension**:"
   ]
  },
  {
   "cell_type": "code",
   "execution_count": null,
   "metadata": {
    "collapsed": false
   },
   "outputs": [],
   "source": [
    "lst = [1, 2, 3, 4, 5, 6, 7, 8, 9]\n",
    "squares = [i ** 2 for i in lst]\n",
    "print(squares)"
   ]
  },
  {
   "cell_type": "markdown",
   "metadata": {},
   "source": [
    "This gives the same result, but with much less code.  It is a more concise way of writing the same thing.  Less code is good because it means less places for bugs to hide.  If we break it into its separate parts, it looks like this:\n",
    "\n",
    "squares = [&lt;result&gt; &lt;iteration&gt;]\n",
    "\n",
    "The *iteration* part is the keyword **for** followed by a variable to assign a value to, then *in*, then an iterator or list.\n",
    "\n",
    "From the iteration we obtains a variable, *i* in our case, and we *can* use it to calculate the *result*, which it then adds to the new list it is creating.  The result can also be based on a variable that is already known.  Unlike when regular **for loops**, here there is no real (indented) block of code to execute, only an expression that calculates the value to add to the new list.\n",
    "\n",
    "E.g. if we want to calculate the values cubes instead of squared:"
   ]
  },
  {
   "cell_type": "code",
   "execution_count": null,
   "metadata": {
    "collapsed": false
   },
   "outputs": [],
   "source": [
    "power_of = 3\n",
    "i = 100\n",
    "print([i ** power_of for i in lst])\n",
    "i"
   ]
  },
  {
   "cell_type": "markdown",
   "metadata": {},
   "source": [
    "In the example above, we have a global variable, **i**, which we assign the value 100.  We also have a variable **i** in the list comprehension statement.  These are not the same variable.  The **i** in the list comprehension statement is *local* to the statement, which is why the **i** we print at the end still has the value 100."
   ]
  },
  {
   "cell_type": "markdown",
   "metadata": {},
   "source": [
    "What about if our initial example was more complex, like wanting to calculate the square, but only for even numbers.  It would have looked like this:"
   ]
  },
  {
   "cell_type": "code",
   "execution_count": null,
   "metadata": {
    "collapsed": false
   },
   "outputs": [],
   "source": [
    "lst = [1, 2, 3, 4, 5, 6, 7, 8, 9]\n",
    "squares = []\n",
    "power_of = 2\n",
    "for i in lst:\n",
    "    if i % 2 == 0: # calculate the modules with 2.  If it is zero, our number is divisable by 2, hence even.\n",
    "        squares.append(i ** power_of)\n",
    "print(squares)"
   ]
  },
  {
   "cell_type": "markdown",
   "metadata": {},
   "source": [
    "### We can do the same thing using **list comprehension** by using its thirds part, a condition:\n",
    "\n",
    "squares = [&lt;reuslt&gt; &lt;iteration&gt; &lt;condition&gt;]\n",
    "\n",
    "The *condition* is the keyword **if** followed by a condition, which can include the value obtained from the iteration.  Unlike regular **if** statements, there is no *then* or *else* block.  It is simply a matter of if the condition is met, the result is calculated and added.  If not met, then the result isn't calculated and nothing is added to the new list for that iteration.\n",
    "\n",
    "E.g. if we want to calculate the squares, but only for even numbers:"
   ]
  },
  {
   "cell_type": "code",
   "execution_count": null,
   "metadata": {
    "collapsed": false
   },
   "outputs": [],
   "source": [
    "[i ** power_of for i in lst if i % 2 == 0]"
   ]
  },
  {
   "cell_type": "markdown",
   "metadata": {},
   "source": [
    "If we have **if** before the **for** statement, then it acts as an inline **if** statement (which we learnt about earlier already), which needs an *else* to indicate what to return if not true.\n",
    "\n",
    "In the example below, odd numbers are set to zero and even numbers are squared."
   ]
  },
  {
   "cell_type": "code",
   "execution_count": null,
   "metadata": {
    "collapsed": false
   },
   "outputs": [],
   "source": [
    "[i ** 2 if i % 2 == 0 else 0 for i in lst]"
   ]
  },
  {
   "cell_type": "markdown",
   "metadata": {},
   "source": [
    "The long way looks like this."
   ]
  },
  {
   "cell_type": "code",
   "execution_count": null,
   "metadata": {
    "collapsed": false
   },
   "outputs": [],
   "source": [
    "lst = [1, 2, 3, 4, 5, 6, 7, 8, 9]\n",
    "squares = []\n",
    "power_of = 2\n",
    "for i in lst:\n",
    "    if i % 2 == 0: # calculate the modules with 2.  If it is zero, our number is divisable by 2, hence even.\n",
    "        s = i ** 2\n",
    "    else:\n",
    "        s = 0\n",
    "    squares.append(s)\n",
    "print(squares)"
   ]
  },
  {
   "cell_type": "markdown",
   "metadata": {},
   "source": [
    "Just like with normal **for loops**, you can also have nested list comprehension loops.  E.g.:"
   ]
  },
  {
   "cell_type": "code",
   "execution_count": null,
   "metadata": {
    "collapsed": false
   },
   "outputs": [],
   "source": [
    "[(x, y) for y in range(3) if y < 2 for x in range(4) if x >= 2]"
   ]
  },
  {
   "cell_type": "markdown",
   "metadata": {},
   "source": [
    "Or the long was around:"
   ]
  },
  {
   "cell_type": "code",
   "execution_count": null,
   "metadata": {
    "collapsed": false
   },
   "outputs": [],
   "source": [
    "for y in range(3):\n",
    "    if y < 2:\n",
    "        for x in range(4):\n",
    "            if x >= 2:\n",
    "                print((x,y))"
   ]
  },
  {
   "cell_type": "markdown",
   "metadata": {},
   "source": [
    "In the example above, you can see the **first** for loop is the **outer** loop, while the **second** is the **inner** loop."
   ]
  },
  {
   "cell_type": "markdown",
   "metadata": {},
   "source": [
    "#### Can you draw a crude circle (similar to the *Nested for loops* section, but using a single *list comprehension* statement?  Pay attention to where you put the *if* keyword."
   ]
  },
  {
   "cell_type": "code",
   "execution_count": null,
   "metadata": {
    "collapsed": false
   },
   "outputs": [],
   "source": []
  },
  {
   "cell_type": "markdown",
   "metadata": {},
   "source": [
    "## Useful function to use with lists\n",
    "Lists themselves have some useful function built in, but there are a few more than makes sense to know.\n",
    "### Map\n",
    "The **map** function allows you to call a function for every value in a list, and returns a new list with the result of those function calls.  It basically *maps* the input list to an output list.  Strictly speaking it doesn't return a new list, but something similar to a list, which we can iterate over.  If you want a list, you can *convert* it to a list using **list()** (similar to how we did for the **range()** function).\n",
    "\n",
    "Let's again calculate the square or a list, using the a **square** function we create and the **map()** function."
   ]
  },
  {
   "cell_type": "code",
   "execution_count": null,
   "metadata": {
    "collapsed": false
   },
   "outputs": [],
   "source": [
    "def square(num):\n",
    "    \"\"\" Calculate the square of a number. \"\"\"\n",
    "    return num ** 2\n",
    "\n",
    "lst = [1, 2, 3, 4, 5, 6, 7, 8, 9]\n",
    "list(map(square, lst))"
   ]
  },
  {
   "cell_type": "markdown",
   "metadata": {},
   "source": [
    "Its a bit cumbersome to create a function just to calculate the square of a value.  In Python, there is usually a shorter way of doing something, and here is no exception.  You can use a **lambda** function.\n",
    "### Lambda functions\n",
    "A **lambda** function is also called an *anonymous* function because we don't even have to give it a name.  It can't have a block of code to execute, but can contain an expression and you can pass it several arguments.  You define it using the **lambda** keyword.  Let's look at its structure:\n",
    "\n",
    "lambda &lt;arguments&gt; : &lt;expression&gt;\n",
    "\n",
    "Below is a lambda function that calculates the square of a number.  Here we assign it to the square_l variable, and then we can call square_l just like we call a function."
   ]
  },
  {
   "cell_type": "code",
   "execution_count": null,
   "metadata": {
    "collapsed": false
   },
   "outputs": [],
   "source": [
    "square_l = lambda num : num ** 2\n",
    "square_l(4)"
   ]
  },
  {
   "cell_type": "code",
   "execution_count": null,
   "metadata": {
    "collapsed": false
   },
   "outputs": [],
   "source": [
    "type(square_l)"
   ]
  },
  {
   "cell_type": "markdown",
   "metadata": {},
   "source": [
    "If we want to use it with map, we can have done it like this:"
   ]
  },
  {
   "cell_type": "code",
   "execution_count": null,
   "metadata": {
    "collapsed": false
   },
   "outputs": [],
   "source": [
    "list(map(square_l, lst))"
   ]
  },
  {
   "cell_type": "markdown",
   "metadata": {},
   "source": [
    "We could even have done it without giving it a name:"
   ]
  },
  {
   "cell_type": "code",
   "execution_count": null,
   "metadata": {
    "collapsed": false
   },
   "outputs": [],
   "source": [
    "list(map(lambda num : num ** 2, lst))"
   ]
  },
  {
   "cell_type": "markdown",
   "metadata": {},
   "source": [
    "**lambdas** can have more than one parameters, and they can also have defaulted values:"
   ]
  },
  {
   "cell_type": "code",
   "execution_count": null,
   "metadata": {
    "collapsed": false
   },
   "outputs": [],
   "source": [
    "list(map(lambda num, power_of=3 : num ** power_of, lst))"
   ]
  },
  {
   "cell_type": "markdown",
   "metadata": {},
   "source": [
    "### Filter function\n",
    "The **filter()** function is used to *filter* a list of values down to a certain subset.  E.g. if you want to find all even numbers in a list, you can use filter.  It takes a function and an *iterable* (like a list) and returns a new *iterable* for only the values from the list where the function (when called with the value) returned True.  Just like **maps** it doesn't return a list, but something that can be *cast* into a list using **list()**.  It can also use **lambda** functions, just like **map**.\n",
    "\n",
    "Let's find that list of even numbers:"
   ]
  },
  {
   "cell_type": "code",
   "execution_count": null,
   "metadata": {
    "collapsed": false
   },
   "outputs": [],
   "source": [
    "lst = [1, 2, 3, 4, 5, 6, 7, 8, 9]\n",
    "list(filter(lambda num: num % 2 == 0, lst))"
   ]
  },
  {
   "cell_type": "markdown",
   "metadata": {},
   "source": [
    "Using list comprehension we could have done it like this as well:"
   ]
  },
  {
   "cell_type": "code",
   "execution_count": null,
   "metadata": {
    "collapsed": false
   },
   "outputs": [],
   "source": [
    "[num for num in lst if num % 2 == 0]"
   ]
  },
  {
   "cell_type": "markdown",
   "metadata": {},
   "source": [
    "Or using a defined function:"
   ]
  },
  {
   "cell_type": "code",
   "execution_count": null,
   "metadata": {
    "collapsed": true
   },
   "outputs": [],
   "source": [
    "def even(num):\n",
    "    return num % 2 == 0"
   ]
  },
  {
   "cell_type": "code",
   "execution_count": null,
   "metadata": {
    "collapsed": false
   },
   "outputs": [],
   "source": [
    "even(3)"
   ]
  },
  {
   "cell_type": "code",
   "execution_count": null,
   "metadata": {
    "collapsed": false
   },
   "outputs": [],
   "source": [
    "list(filter(even, lst))"
   ]
  },
  {
   "cell_type": "markdown",
   "metadata": {},
   "source": [
    "#### How would use use *map* and *filter* to get the list of squares of only even numbers?"
   ]
  },
  {
   "cell_type": "code",
   "execution_count": null,
   "metadata": {
    "collapsed": true
   },
   "outputs": [],
   "source": []
  },
  {
   "cell_type": "markdown",
   "metadata": {},
   "source": [
    "Do the same using list comprehension."
   ]
  },
  {
   "cell_type": "code",
   "execution_count": null,
   "metadata": {
    "collapsed": true
   },
   "outputs": [],
   "source": []
  },
  {
   "cell_type": "markdown",
   "metadata": {},
   "source": [
    "#### Using your dictionary of planets from chapter 4, create a single expression that prints the name, number of moons for all planets that have rings."
   ]
  },
  {
   "cell_type": "code",
   "execution_count": null,
   "metadata": {
    "collapsed": true
   },
   "outputs": [],
   "source": []
  },
  {
   "cell_type": "markdown",
   "metadata": {},
   "source": [
    "#### Is this code more readable that the previous the code is chapter 4?"
   ]
  },
  {
   "cell_type": "code",
   "execution_count": null,
   "metadata": {
    "collapsed": true
   },
   "outputs": [],
   "source": []
  }
 ],
 "metadata": {
  "kernelspec": {
   "display_name": "Python 3",
   "language": "python",
   "name": "python3"
  },
  "language_info": {
   "codemirror_mode": {
    "name": "ipython",
    "version": 3
   },
   "file_extension": ".py",
   "mimetype": "text/x-python",
   "name": "python",
   "nbconvert_exporter": "python",
   "pygments_lexer": "ipython3",
   "version": "3.6.0"
  }
 },
 "nbformat": 4,
 "nbformat_minor": 2
}
